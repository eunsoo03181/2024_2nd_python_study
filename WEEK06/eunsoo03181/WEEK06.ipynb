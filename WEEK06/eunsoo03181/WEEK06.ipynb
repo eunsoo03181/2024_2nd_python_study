{
 "cells": [
  {
   "cell_type": "markdown",
   "metadata": {},
   "source": [
    "# Python 6주차\n",
    "프로그래밍을 하면서 수많은 오류를 의도하지 않았어도 자주 접했을 것입니다. <br>\n",
    "오류는 크게 구문 오류와 런타임 오류(예외)라고 부릅니다.<br>\n",
    "구문 오류는 프로그램 실행 전에 발생하는 오류로 흔히 오타를 내는 행위 등으로 자주 발생합니다."
   ]
  },
  {
   "cell_type": "code",
   "execution_count": 5,
   "metadata": {},
   "outputs": [
    {
     "ename": "SyntaxError",
     "evalue": "unterminated string literal (detected at line 2) (1552089970.py, line 2)",
     "output_type": "error",
     "traceback": [
      "\u001b[1;36m  Cell \u001b[1;32mIn[5], line 2\u001b[1;36m\u001b[0m\n\u001b[1;33m    print(\"world!)\u001b[0m\n\u001b[1;37m          ^\u001b[0m\n\u001b[1;31mSyntaxError\u001b[0m\u001b[1;31m:\u001b[0m unterminated string literal (detected at line 2)\n"
     ]
    }
   ],
   "source": [
    "print(\"Hello\", end=\"\")\n",
    "print(\"world!) "
   ]
  },
  {
   "cell_type": "markdown",
   "metadata": {},
   "source": [
    "구문에서부터 이미 오류가 있음을 감지했기 때문에 프로그램이 실행되기도 전에 오류가 발생합니다. <br>\n",
    "SyntaxError은 '구문 오류'를 의미하며 프로그램 구문에 잘못이 있어 실행되지 않습니다.<br>\n",
    "<br>\n",
    "반면, 런타임 오류(이후, 예외)는 프로그램 실행 중에 발생하는 오류입니다."
   ]
  },
  {
   "cell_type": "code",
   "execution_count": 9,
   "metadata": {},
   "outputs": [
    {
     "name": "stdout",
     "output_type": "stream",
     "text": [
      "0\n"
     ]
    },
    {
     "ename": "IndexError",
     "evalue": "list index out of range",
     "output_type": "error",
     "traceback": [
      "\u001b[1;31m---------------------------------------------------------------------------\u001b[0m",
      "\u001b[1;31mIndexError\u001b[0m                                Traceback (most recent call last)",
      "Cell \u001b[1;32mIn[9], line 3\u001b[0m\n\u001b[0;32m      1\u001b[0m a \u001b[38;5;241m=\u001b[39m [\u001b[38;5;241m0\u001b[39m, \u001b[38;5;241m1\u001b[39m, \u001b[38;5;241m2\u001b[39m, \u001b[38;5;241m3\u001b[39m, \u001b[38;5;241m4\u001b[39m]\n\u001b[0;32m      2\u001b[0m \u001b[38;5;28mprint\u001b[39m(a[\u001b[38;5;241m0\u001b[39m])\n\u001b[1;32m----> 3\u001b[0m \u001b[38;5;28mprint\u001b[39m(\u001b[43ma\u001b[49m\u001b[43m[\u001b[49m\u001b[38;5;241;43m5\u001b[39;49m\u001b[43m]\u001b[49m)\n\u001b[0;32m      4\u001b[0m \u001b[38;5;28mprint\u001b[39m(a[\u001b[38;5;241m2\u001b[39m])\n",
      "\u001b[1;31mIndexError\u001b[0m: list index out of range"
     ]
    }
   ],
   "source": [
    "a = [0, 1, 2, 3, 4]\n",
    "print(a[0])\n",
    "print(a[5])\n",
    "print(a[2])"
   ]
  },
  {
   "cell_type": "markdown",
   "metadata": {},
   "source": [
    "이번에는 이전과 달리, a[0]의 값을 출력하고, 이후 a[5]의 값이 범위를 벗어났으므로 IndexError를 나타냈습니다.<br>\n",
    "예외는 발생하기 전까지의 명령어를 모두 출력하는데, 이는 파이썬이 인터프리터 언어이기 때문입니다.<br>\n",
    "<br>\n",
    "개발자는 프로그램 사용 중 저런 문구를 보더라도 그에 맞게 대처할 수 있겠지만, <br>\n",
    "사용자 입장에서 이런 오류를 보게 된다면, 당황스러울 것입니다. <br>\n",
    "그러므로, 개발자는 이런 경우를 대비하기 위해 해당 예외가 발생하면 어떤 조치를 할지를 염두하여야 합니다.<br>\n",
    "이 작업을 '예외 처리'라고 합니다."
   ]
  },
  {
   "cell_type": "markdown",
   "metadata": {},
   "source": [
    "## 1. 예외 처리\n",
    "예외 처리 방법은 크게 두 가지가 있습니다. 조건문을 이용하는 방법과 try 구문을 사용하는 방법입니다."
   ]
  },
  {
   "cell_type": "code",
   "execution_count": 1,
   "metadata": {},
   "outputs": [
    {
     "name": "stdout",
     "output_type": "stream",
     "text": [
      "입력한 수는 정수가 아닙니다.\n"
     ]
    }
   ],
   "source": [
    "a = input(\"정수를 입력해주세요: \")\n",
    "\n",
    "if not a.isdigit():\n",
    "    print(\"입력한 수는 정수가 아닙니다.\")"
   ]
  },
  {
   "cell_type": "markdown",
   "metadata": {},
   "source": [
    "try except 구문은 try 구문 안에 있는 코드에 예외가 발생할 경우 except 구문을 실행합니다."
   ]
  },
  {
   "cell_type": "code",
   "execution_count": 3,
   "metadata": {},
   "outputs": [
    {
     "name": "stdout",
     "output_type": "stream",
     "text": [
      "예외 발생\n",
      "이후 코드 작동\n"
     ]
    }
   ],
   "source": [
    "try:\n",
    "    list_a = [1, 2, 3]\n",
    "    print(a[4])\n",
    "\n",
    "except:\n",
    "    print(\"예외 발생\")\n",
    "\n",
    "\n",
    "print(\"이후 코드 작동\")"
   ]
  },
  {
   "cell_type": "markdown",
   "metadata": {},
   "source": [
    "또한, else를 붙인 경우 예외가 발생하지 않았을때 else 구문을 실행합니다."
   ]
  },
  {
   "cell_type": "code",
   "execution_count": 4,
   "metadata": {},
   "outputs": [
    {
     "name": "stdout",
     "output_type": "stream",
     "text": [
      "3\n",
      "코드 정상 실행\n",
      "이후 코드 작동\n"
     ]
    }
   ],
   "source": [
    "try:\n",
    "    list_a = [1, 2, 3]\n",
    "    print(a[2])\n",
    "\n",
    "except:\n",
    "    print(\"예외 발생\")\n",
    "\n",
    "else:\n",
    "    print(\"코드 정상 실행\")\n",
    "\n",
    "\n",
    "print(\"이후 코드 작동\")"
   ]
  },
  {
   "cell_type": "markdown",
   "metadata": {},
   "source": [
    "else 구문은 try에 예외가 발생할 가능성이 높은 코드를 넣은 이후 정상적으로 작동하는지 확인하기 위해 사용합니다. <br>\n",
    "그러나, try문에 다 적어두는 것도 같은 결과가 발생하기 때문에 반드시 사용되지는 않습니다.<br>\n",
    "<br>\n",
    "finally 구문은 예외 발생 유무에 관계 없이 무조건 실행합니다."
   ]
  },
  {
   "cell_type": "code",
   "execution_count": 12,
   "metadata": {},
   "outputs": [
    {
     "name": "stdout",
     "output_type": "stream",
     "text": [
      "예외 발생\n",
      "예외 처리 프로그램 종료\n",
      "이후 코드 작동\n"
     ]
    }
   ],
   "source": [
    "try:\n",
    "    list_a = [1, 2, 3]\n",
    "    print(a[3])\n",
    "\n",
    "except:\n",
    "    print(\"예외 발생\")\n",
    "\n",
    "else:\n",
    "    print(\"코드 정상 실행\")\n",
    "\n",
    "finally:\n",
    "    print(\"예외 처리 프로그램 종료\")\n",
    "\n",
    "\n",
    "print(\"이후 코드 작동\")"
   ]
  },
  {
   "cell_type": "markdown",
   "metadata": {},
   "source": [
    "finally 구문은 예기치 못하게 코드가 종료되었을때 발생할 수 있는 문제에 대비하기 위해 사용됩니다. <br>\n",
    "예를 들어, 파일 입출력시 코드가 예기치 않게 종료가 된 경우 파일은 계속 열려있는 상태가 될 수 있습니다. <br>\n",
    "이때, finally를 통해 파일을 닫아 문제를 예방할 수 있습니다. 또한, break 키워드를 통해 예외 처리 구문을 빠져나온다고 하더라도 <br>\n",
    "finally 구문은 반드시 실행됩니다."
   ]
  },
  {
   "cell_type": "markdown",
   "metadata": {},
   "source": [
    "## 2. 예외 클래스\n",
    "\n",
    "예외는 객체로, 예외 클래스에 의해 생성됩니다. 예외 상황이 발생할 경우 Python은 예외 클래스로부터 예외 객체를 생성합니다."
   ]
  },
  {
   "cell_type": "code",
   "execution_count": 14,
   "metadata": {},
   "outputs": [
    {
     "ename": "IndexError",
     "evalue": "",
     "output_type": "error",
     "traceback": [
      "\u001b[1;31m---------------------------------------------------------------------------\u001b[0m",
      "\u001b[1;31mIndexError\u001b[0m                                Traceback (most recent call last)",
      "Cell \u001b[1;32mIn[14], line 1\u001b[0m\n\u001b[1;32m----> 1\u001b[0m \u001b[38;5;28;01mraise\u001b[39;00m \u001b[38;5;167;01mIndexError\u001b[39;00m\n",
      "\u001b[1;31mIndexError\u001b[0m: "
     ]
    }
   ],
   "source": [
    "raise IndexError"
   ]
  },
  {
   "cell_type": "markdown",
   "metadata": {},
   "source": [
    "raise는 예외 객체를 생성하고, 이를 발생시키는 역할을 합니다. <br>\n",
    "따라서 위와 같은 경우, 리스트의 범위 등을 초과하지 않았더라도 IndexError가 발생하게 됩니다."
   ]
  },
  {
   "cell_type": "code",
   "execution_count": 16,
   "metadata": {},
   "outputs": [
    {
     "name": "stdout",
     "output_type": "stream",
     "text": [
      "0으로 나눌 수 없습니다.\n",
      "exception: division by zero\n"
     ]
    }
   ],
   "source": [
    "try:\n",
    "    a = 3 / 0\n",
    "\n",
    "except IndexError as exception:\n",
    "    print(\"값이 범위를 초과하였습니다.\")\n",
    "    print(f\"exception: {exception}\")\n",
    "\n",
    "except ZeroDivisionError as exception:\n",
    "    print(\"0으로 나눌 수 없습니다.\")\n",
    "    print(f\"exception: {exception}\")\n",
    "\n",
    "except Exception as exception:\n",
    "    print(\"알 수 없는 오류가 발생하였습니다.\")\n",
    "    print(f\"exception: {exception}\")"
   ]
  },
  {
   "cell_type": "markdown",
   "metadata": {},
   "source": [
    "as는 모듈에서 했을 때와 동일하게, alias의 약자이며, 해당 예외를 exception으로 지정하겠다는 의미입니다.<br>\n",
    "except문을 여러 개 입력할 경우 가장 먼저 발생한 예외에 대한 처리가 나온 후에 코드가 종료됩니다. <br>\n",
    "즉, 위의 코드에서 IndexError 상황이 먼저 발생한 경우, IndexError에 대한 예외 처리만 진행하고, 이후 ZeroDivisionError에 대한 처리를 진행하지 않습니다. <br>\n",
    "따라서, 예외의 범위가 더 클수록 except 구문에서 더 뒷쪽에 위치하여야 합니다."
   ]
  },
  {
   "cell_type": "markdown",
   "metadata": {},
   "source": [
    "## 3. 사용자 지정 예외\n",
    "Python에서 기본적으로 제공되는 예외가 아니라 사용자가 직접 정의한 예외를 사용해야할 상황이 있을 때가 있습니다. <br>\n",
    "예를 들어, 수강신청 중 강의 여석이 없는 경우 강의 여석이 없다는 예외를 만들어야 할 수도 있습니다. <br>\n",
    "이 경우에는 직접 예외를 만들어서 이를 사용하여야 합니다. <br>\n",
    "<br>\n",
    "모든 예외는 Exception의 자식 클래스입니다. (SyntaxError은 Exception의 자식이 아닙니다.) 이들은 Exception으로부터 필드와 메소드를 상속 받습니다. <br>\n",
    "직접 예외를 만들고 싶다면 마찬가지로, Exception을 상속받아야 합니다."
   ]
  },
  {
   "cell_type": "code",
   "execution_count": 18,
   "metadata": {},
   "outputs": [
    {
     "ename": "EmptySpaceException",
     "evalue": "강의 여석이 없습니다!",
     "output_type": "error",
     "traceback": [
      "\u001b[1;31m---------------------------------------------------------------------------\u001b[0m",
      "\u001b[1;31mEmptySpaceException\u001b[0m                       Traceback (most recent call last)",
      "Cell \u001b[1;32mIn[18], line 9\u001b[0m\n\u001b[0;32m      5\u001b[0m     \u001b[38;5;28;01mdef\u001b[39;00m \u001b[38;5;21m__str__\u001b[39m(\u001b[38;5;28mself\u001b[39m):\n\u001b[0;32m      6\u001b[0m         \u001b[38;5;28;01mreturn\u001b[39;00m \u001b[38;5;124m\"\u001b[39m\u001b[38;5;124m강의 여석이 없습니다!\u001b[39m\u001b[38;5;124m\"\u001b[39m\n\u001b[1;32m----> 9\u001b[0m \u001b[38;5;28;01mraise\u001b[39;00m EmptySpaceException\n",
      "\u001b[1;31mEmptySpaceException\u001b[0m: 강의 여석이 없습니다!"
     ]
    }
   ],
   "source": [
    "class EmptySpaceException(Exception):\n",
    "    def __init__(self):\n",
    "        Exception.__init__(self)\n",
    "\n",
    "    def __str__(self):\n",
    "        return \"강의 여석이 없습니다!\"\n",
    "\n",
    "\n",
    "raise EmptySpaceException"
   ]
  },
  {
   "cell_type": "markdown",
   "metadata": {},
   "source": [
    "생성자에서 Exception 생성자를 호출하여, Exception 클래스를 호출합니다. 이를 통해 예외 기능을 상속받을 수 있게 됩니다.<br>\n",
    "문자열 반환 메소드를 이후 오버라이딩하여, 사용자가 원하는 오류 구문을 출력할 수 있도록 합니다."
   ]
  }
 ],
 "metadata": {
  "kernelspec": {
   "display_name": "base",
   "language": "python",
   "name": "python3"
  },
  "language_info": {
   "codemirror_mode": {
    "name": "ipython",
    "version": 3
   },
   "file_extension": ".py",
   "mimetype": "text/x-python",
   "name": "python",
   "nbconvert_exporter": "python",
   "pygments_lexer": "ipython3",
   "version": "3.12.4"
  }
 },
 "nbformat": 4,
 "nbformat_minor": 2
}
