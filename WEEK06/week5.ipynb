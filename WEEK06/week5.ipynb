{
 "cells": [
  {
   "cell_type": "markdown",
   "metadata": {},
   "source": [
    "# 8. 클래스"
   ]
  },
  {
   "cell_type": "markdown",
   "metadata": {},
   "source": [
    "## 1. 클래스의 기본\n",
    "객체 지향 프로그램 : 객체를 우선으로 생각해서 프로그래밍\n",
    "\n",
    "클래스를 기반으로 객체를 만들고, 객체를 우선으로 생각해서 프로그래밍"
   ]
  },
  {
   "cell_type": "markdown",
   "metadata": {},
   "source": [
    "### 1. 객체 : 여러 가지 속성을 가질 수 있는 대상\n",
    "추상화 : 프로그램에서 필요한 요소만을 사용해서 객체를 표현 (복잡한 자료, 모듈, 시스템 등으로부터 핵심적인 개념 또는 기능을 간추려 내는 것)"
   ]
  },
  {
   "cell_type": "code",
   "execution_count": 2,
   "metadata": {},
   "outputs": [
    {
     "name": "stdout",
     "output_type": "stream",
     "text": [
      "이름\t총점\t평균\n",
      "윤인성\t368\t92.0\n",
      "연하진\t384\t96.0\n",
      "구지연\t356\t89.0\n",
      "나선주\t378\t94.5\n",
      "윤아린\t389\t97.25\n",
      "윤명월\t336\t84.0\n"
     ]
    }
   ],
   "source": [
    "# 학생 리스트를 선언합니다.\n",
    "students = [\n",
    "    { \"name\": \"윤인성\", \"korean\": 87, \"math\": 98, \"english\": 88, \"science\": 95 },\n",
    "    { \"name\": \"연하진\", \"korean\": 92, \"math\": 98, \"english\": 96, \"science\": 98 },\n",
    "    { \"name\": \"구지연\", \"korean\": 76, \"math\": 96, \"english\": 94, \"science\": 90 },\n",
    "    { \"name\": \"나선주\", \"korean\": 98, \"math\": 92, \"english\": 96, \"science\": 92 },\n",
    "    { \"name\": \"윤아린\", \"korean\": 95, \"math\": 98, \"english\": 98, \"science\": 98 },\n",
    "    { \"name\": \"윤명월\", \"korean\": 64, \"math\": 88, \"english\": 92, \"science\": 92 }\n",
    "]\n",
    "\n",
    "# 학생을 한 명씩 반복합니다.\n",
    "print(\"이름\", \"총점\", \"평균\", sep=\"\\t\")\n",
    "for student in students:\n",
    "    # 점수의 총합과 평균을 구합니다.\n",
    "    score_sum = student[\"korean\"] + student[\"math\"] +\\\n",
    "        student[\"english\"] + student[\"science\"]\n",
    "    score_average = score_sum / 4\n",
    "    # 출력합니다.\n",
    "    print(student[\"name\"], score_sum, score_average, sep=\"\\t\")\n",
    "\n",
    "# '학생' = 객체"
   ]
  },
  {
   "cell_type": "code",
   "execution_count": 3,
   "metadata": {},
   "outputs": [
    {
     "name": "stdout",
     "output_type": "stream",
     "text": [
      "이름\t총점\t평균\n",
      "윤인성\t368\t92.0\n",
      "연하진\t384\t96.0\n",
      "구지연\t356\t89.0\n",
      "나선주\t378\t94.5\n",
      "윤아린\t389\t97.25\n",
      "윤명월\t336\t84.0\n"
     ]
    }
   ],
   "source": [
    "# 딕셔너리 생성 함수\n",
    "# 딕셔너리를 리턴하는 함수를 선언합니다.\n",
    "def create_student(name, korean, math, english, science):\n",
    "    return {\n",
    "        \"name\": name,\n",
    "        \"korean\": korean,\n",
    "        \"math\": math,\n",
    "        \"english\": english,\n",
    "        \"science\": science\n",
    "    }\n",
    "\n",
    "# 학생 리스트를 선언합니다.\n",
    "students = [\n",
    "    create_student(\"윤인성\", 87, 98, 88, 95),\n",
    "    create_student(\"연하진\", 92, 98, 96, 98),\n",
    "    create_student(\"구지연\", 76, 96, 94, 90),\n",
    "    create_student(\"나선주\", 98, 92, 96, 92),\n",
    "    create_student(\"윤아린\", 95, 98, 98, 98),\n",
    "    create_student(\"윤명월\", 64, 88, 92, 92)\n",
    "]\n",
    "\n",
    "# 학생을 한 명씩 반복합니다.\n",
    "print(\"이름\", \"총점\", \"평균\", sep=\"\\t\")\n",
    "for student in students:\n",
    "    # 점수의 총합과 평균을 구합니다.\n",
    "    score_sum = student[\"korean\"] + student[\"math\"] +\\\n",
    "        student[\"english\"] + student[\"science\"]\n",
    "    score_average = score_sum / 4\n",
    "    # 출력합니다.\n",
    "    print(student[\"name\"], score_sum, score_average, sep=\"\\t\")"
   ]
  },
  {
   "cell_type": "code",
   "execution_count": 6,
   "metadata": {},
   "outputs": [
    {
     "name": "stdout",
     "output_type": "stream",
     "text": [
      "이름\t총점\t평균\n",
      "윤인성\t368\t92.0\n",
      "연하진\t384\t96.0\n",
      "구지연\t356\t89.0\n",
      "나선주\t378\t94.5\n",
      "윤아린\t389\t97.25\n",
      "윤명월\t336\t84.0\n"
     ]
    }
   ],
   "source": [
    "# 딕셔너리 생성 함수\n",
    "# 딕셔너리를 리턴하는 함수를 선언합니다.\n",
    "def create_student(name, korean, math, english, science):\n",
    "    return {\n",
    "        \"name\": name,\n",
    "        \"korean\": korean,\n",
    "        \"math\": math,\n",
    "        \"english\": english,\n",
    "        \"science\": science\n",
    "    }\n",
    "\n",
    "# 학생을 처리하는 함수를 선언합니다.\n",
    "def student_get_sum(student): # 총합 구하는 함수\n",
    "    return student[\"korean\"] + student[\"math\"] +\\\n",
    "        student[\"english\"] + student[\"science\"]\n",
    "\n",
    "def student_get_average(student): # 평균 구하는 함수\n",
    "    return student_get_sum(student) / 4\n",
    "\n",
    "def student_to_string(student): # 이름 총점 평균 리턴 함수\n",
    "    return \"{}\\t{}\\t{}\".format(\n",
    "        student[\"name\"],\n",
    "        student_get_sum(student),\n",
    "        student_get_average(student))\n",
    "\n",
    "# 학생 리스트를 선언합니다.\n",
    "students = [\n",
    "    create_student(\"윤인성\", 87, 98, 88, 95),\n",
    "    create_student(\"연하진\", 92, 98, 96, 98),\n",
    "    create_student(\"구지연\", 76, 96, 94, 90),\n",
    "    create_student(\"나선주\", 98, 92, 96, 92),\n",
    "    create_student(\"윤아린\", 95, 98, 98, 98),\n",
    "    create_student(\"윤명월\", 64, 88, 92, 92)\n",
    "]\n",
    "\n",
    "# 학생을 한 명씩 반복합니다.\n",
    "# 복잡한 for문을 생략할 수 있게 되었다.\n",
    "print(\"이름\", \"총점\", \"평균\", sep=\"\\t\")\n",
    "for student in students:\n",
    "    # 출력합니다.\n",
    "    print(student_to_string(student))"
   ]
  },
  {
   "cell_type": "markdown",
   "metadata": {},
   "source": [
    "객체와 관련된 코드를 분리할 수 있게 하는 것이 객체 지향 프로그래밍의 핵심"
   ]
  },
  {
   "cell_type": "markdown",
   "metadata": {},
   "source": [
    "### 2. 클래스 선언하기\n",
    "클래스의 형식은 다음과 같으며\n",
    "\n",
    "class 클래스 이름:\n",
    "\n",
    "    클래스 내용\n",
    "\n",
    "이렇게 만들어진 클래스는 클래스 이름과 같은 함수를 사용해서 객체를 생성\n",
    "클래스를 기반으로 만들어진 객체를 인스턴스라고 부름\n",
    "\n",
    "인스턴스 이름(변수 이름) = 클래스 이름()"
   ]
  },
  {
   "cell_type": "code",
   "execution_count": 10,
   "metadata": {},
   "outputs": [],
   "source": [
    "# 클래스 선언\n",
    "class Student:\n",
    "    pass\n",
    "\n",
    "# 학생 선언\n",
    "student = Student()\n",
    "\n",
    "# 학생 리스트 선언\n",
    "stuents = [\n",
    "    Student(),\n",
    "    Student(),\n",
    "    Student(),\n",
    "    Student(),\n",
    "    Student()\n",
    "]"
   ]
  },
  {
   "cell_type": "markdown",
   "metadata": {},
   "source": [
    "### 3. 생성자 : 클래스 이름과 같은 함수. 클래스 내부에 __init__라는 함수를 만들면 객체를 생성할 때 처리할 내용을 작성할 수 있음\n",
    "class 클래스 이름:\n",
    "\n",
    "    def__init__(self, 추가적인 매개변수):\n",
    "        pass\n",
    "클래스 내부의 함수는 첫 번째 매개변수로 반드시 self를 입력해야 함\n",
    "\n",
    "self는 '자기 자신'을 나타내는 딕셔너리라고 생각하자\n",
    "\n",
    "self가 가지고 있는 속성과 기능에 접근할 때는 self.<식별자> 형태로 접근"
   ]
  },
  {
   "cell_type": "code",
   "execution_count": 1,
   "metadata": {},
   "outputs": [
    {
     "name": "stdout",
     "output_type": "stream",
     "text": [
      "윤인성\n",
      "87\n",
      "98\n",
      "88\n",
      "95\n"
     ]
    }
   ],
   "source": [
    "# 클래스 선언\n",
    "class Student:\n",
    "    def __init__(self, name, korean, math, english, science):\n",
    "        self.name = name # 인스턴스의 속성\n",
    "        self.korean = korean\n",
    "        self.math = math\n",
    "        self.english = english\n",
    "        self.science = science\n",
    "\n",
    "# 학생 리스트 선언\n",
    "stuents = [\n",
    "    Student(\"윤인성\", 87, 98, 88, 95), # 인스턴스 생성\n",
    "    Student(\"연하진\", 92, 98, 96, 98),\n",
    "    Student(\"구지연\", 76, 96, 94, 90),\n",
    "    Student(\"나선주\", 98, 92, 96, 92),\n",
    "    Student(\"윤아린\", 95, 98, 98, 98),\n",
    "    Student(\"윤명월\", 64, 88, 92, 92)\n",
    "]\n",
    "\n",
    "# Stuent 인스턴스의 속성에 접근하는 방법\n",
    "stuents[0].name\n",
    "stuents[0].korean\n",
    "stuents[0].math\n",
    "stuents[0].english\n",
    "stuents[0].science\n",
    "\n",
    "print(stuents[0].name)\n",
    "print(stuents[0].korean)\n",
    "print(stuents[0].math)\n",
    "print(stuents[0].english)\n",
    "print(stuents[0].science)"
   ]
  },
  {
   "cell_type": "markdown",
   "metadata": {},
   "source": [
    "이렇게 만들면 Stuent 인스턴스(객체)가 생성될 때 속성이 직접 추가 된다."
   ]
  },
  {
   "cell_type": "markdown",
   "metadata": {},
   "source": [
    "<소멸자> __del__"
   ]
  },
  {
   "cell_type": "code",
   "execution_count": 16,
   "metadata": {},
   "outputs": [],
   "source": [
    "class Test:\n",
    "    def __init__(self, name):\n",
    "        self.name = name\n",
    "        print(\"{} - 생성되었습니다.\".format(self.name))\n",
    "    def __del__(self, name):\n",
    "        print(\"{} - 파괴되었습니다.\".format(self.name))"
   ]
  },
  {
   "cell_type": "markdown",
   "metadata": {},
   "source": [
    "### 4. 메소드 : 클래스가 가지고 있는 함수 (클래스 내부의 함수) -> 객체가 가지고 있는 기능을 명확하게 표현할 수 있도록 함\n",
    "\n",
    "class 클래스 이름:\n",
    "\n",
    "    def 메소드 이름 (self, 추가적인 매개변수):\n",
    "        pass"
   ]
  },
  {
   "cell_type": "code",
   "execution_count": 30,
   "metadata": {},
   "outputs": [
    {
     "name": "stdout",
     "output_type": "stream",
     "text": [
      "이름\t총점\t평균\n",
      "윤인성\t368\t92.0\n",
      "연하진\t384\t96.0\n",
      "구지연\t356\t89.0\n",
      "나선주\t378\t94.5\n",
      "윤아린\t389\t97.25\n",
      "윤명월\t336\t84.0\n"
     ]
    }
   ],
   "source": [
    "# 클래스를 선언합니다.\n",
    "class Student:\n",
    "    def __init__(self, name, korean, math, english, science): # 클래스 속성 생성 함수\n",
    "        self.name = name\n",
    "        self.korean = korean\n",
    "        self.math = math\n",
    "        self.english = english\n",
    "        self.science = science\n",
    "\n",
    "    def get_sum(self): # 클래스 내부에서 \"총점 구하기 함수\" 만들기\n",
    "        return self.korean + self.math +\\\n",
    "            self.english + self.science\n",
    "\n",
    "    def get_average(self): # 클래스 내부에서 \"평균 구하기 함수\" 만들기\n",
    "        return self.get_sum() / 4\n",
    "\n",
    "    def to_string(self): # 클래스 내부에서 \"이름, 총점, 평균 반환 함수\" 만들기\n",
    "        return \"{}\\t{}\\t{}\".format(\\\n",
    "            self.name,\\\n",
    "            self.get_sum(),\\\n",
    "            self.get_average())\n",
    "\n",
    "# 학생 리스트를 선언합니다.\n",
    "students = [\n",
    "    Student(\"윤인성\", 87, 98, 88, 95),\n",
    "    Student(\"연하진\", 92, 98, 96, 98),\n",
    "    Student(\"구지연\", 76, 96, 94, 90),\n",
    "    Student(\"나선주\", 98, 92, 96, 92),\n",
    "    Student(\"윤아린\", 95, 98, 98, 98),\n",
    "    Student(\"윤명월\", 64, 88, 92, 92)\n",
    "]\n",
    "\n",
    "# 학생을 한 명씩 반복합니다.\n",
    "print(\"이름\", \"총점\", \"평균\", sep=\"\\t\")\n",
    "for student in students:\n",
    "    # 출력합니다.\n",
    "    print(student.to_string()) # 객체가 가지고 있는 함수(기능)을 명확하게 이해 가능"
   ]
  },
  {
   "cell_type": "markdown",
   "metadata": {},
   "source": [
    "-----------------------------------------------------------------------------------------------------------------------------------------------------------"
   ]
  },
  {
   "cell_type": "markdown",
   "metadata": {},
   "source": [
    "## 2. 클래스의 추가적인 구문\n",
    "클래스를 사용하는 것은 속성과 긴으을 가진 객체를 만들겠다는 의미이므로 이에 따른 부가적인 기능을 지원함\n",
    "\n",
    "어떤 클래스를 기반으로 그 속성과 기능을 물려받아 새로운 클래스를 만드는 상속,\n",
    "\n",
    "이러한 상속 관계에 따라서 객체가 어떤 클래스를 기반으로 만들었는지 확인할 수 있게 해주는 isinstance() 함수,\n",
    "\n",
    "str() 함수 혹은 연산자를 사용해서 클래스의 특정 함수를 호출할 수 있게 해줌"
   ]
  },
  {
   "cell_type": "markdown",
   "metadata": {},
   "source": [
    "### 1. 어떤 클래스의 인스턴스인지 확인하기"
   ]
  },
  {
   "cell_type": "code",
   "execution_count": 21,
   "metadata": {},
   "outputs": [
    {
     "name": "stdout",
     "output_type": "stream",
     "text": [
      "isinstance(student, Student): True\n"
     ]
    }
   ],
   "source": [
    "class Student:\n",
    "    def __init__(self):\n",
    "        pass\n",
    "\n",
    "student = Student()\n",
    "\n",
    "print(\"isinstance(student, Student):\", isinstance(student, Student))\n",
    "\n",
    "# stuent는 Stuent 클래스를 기반으로 만들었으므로 True 출력"
   ]
  },
  {
   "cell_type": "markdown",
   "metadata": {},
   "source": [
    "단순하게 인스턴스를 확인하기 위해 type()을 사용할 수 있음\n",
    "\n",
    "type()과 isinsatnce()의 차이는 isinstance()는 상속 관계까지 확인할 수 있지만 type()은 상속 관계까지 알 수 없음"
   ]
  },
  {
   "cell_type": "code",
   "execution_count": 22,
   "metadata": {},
   "outputs": [
    {
     "data": {
      "text/plain": [
       "True"
      ]
     },
     "execution_count": 22,
     "metadata": {},
     "output_type": "execute_result"
    }
   ],
   "source": [
    "type(student) == Student"
   ]
  },
  {
   "cell_type": "markdown",
   "metadata": {},
   "source": [
    "isinstance() 함수는 여러 종류의 인스턴스가 있을 때, 인스턴스들을 구분하며 속성과 기능을 사용할 때 사용함"
   ]
  },
  {
   "cell_type": "code",
   "execution_count": 23,
   "metadata": {},
   "outputs": [
    {
     "name": "stdout",
     "output_type": "stream",
     "text": [
      "공부를 합니다.\n",
      "공부를 합니다.\n",
      "학생을 가르칩니다.\n",
      "공부를 합니다.\n",
      "공부를 합니다.\n"
     ]
    }
   ],
   "source": [
    "# 학생 클래스를 선언합니다.\n",
    "class Student:\n",
    "    def study(self):\n",
    "        print(\"공부를 합니다.\")\n",
    "\n",
    "# 선생님 클래스를 선언합니다.\n",
    "class Teacher:\n",
    "    def teach(self):\n",
    "        print(\"학생을 가르칩니다.\")\n",
    "\n",
    "# 교실 내부의 객체 리스트를 생성합니다.\n",
    "classroom = [Student(), Student(), Teacher(), Student(), Student()]\n",
    "\n",
    "# 반복을 적용해서 적절한 함수를 호출하게 합니다.\n",
    "for person in classroom:\n",
    "    if isinstance(person, Student):\n",
    "        person.study()\n",
    "    elif isinstance(person, Teacher):\n",
    "        person.teach()"
   ]
  },
  {
   "cell_type": "markdown",
   "metadata": {},
   "source": [
    "### 2. 특수한 이름의 메소드"
   ]
  },
  {
   "cell_type": "markdown",
   "metadata": {},
   "source": [
    "<__str__> : 객체를 문자열로 변환 가능"
   ]
  },
  {
   "cell_type": "code",
   "execution_count": 24,
   "metadata": {},
   "outputs": [
    {
     "name": "stdout",
     "output_type": "stream",
     "text": [
      "이름\t총점\t평균\n",
      "윤인성\t368\t92.0\n",
      "연하진\t384\t96.0\n",
      "구지연\t356\t89.0\n",
      "나선주\t378\t94.5\n",
      "윤아린\t389\t97.25\n",
      "윤명월\t336\t84.0\n"
     ]
    }
   ],
   "source": [
    "# 클래스를 선언합니다.\n",
    "class Student:\n",
    "    def __init__(self, name, korean, math, english, science):\n",
    "        self.name = name\n",
    "        self.korean = korean\n",
    "        self.math = math\n",
    "        self.english = english\n",
    "        self.science = science\n",
    "\n",
    "    def get_sum(self):\n",
    "        return self.korean + self.math +\\\n",
    "            self.english + self.science\n",
    "\n",
    "    def get_average(self):\n",
    "        return self.get_sum() / 4\n",
    "\n",
    "    def __str__(self):\n",
    "        return \"{}\\t{}\\t{}\".format(\n",
    "            self.name,\n",
    "            self.get_sum(),\n",
    "            self.get_average()) \n",
    "\n",
    "# 학생 리스트를 선언합니다.\n",
    "students = [\n",
    "    Student(\"윤인성\", 87, 98, 88, 95),\n",
    "    Student(\"연하진\", 92, 98, 96, 98),\n",
    "    Student(\"구지연\", 76, 96, 94, 90),\n",
    "    Student(\"나선주\", 98, 92, 96, 92),\n",
    "    Student(\"윤아린\", 95, 98, 98, 98),\n",
    "    Student(\"윤명월\", 64, 88, 92, 92)\n",
    "]\n",
    "\n",
    "# 출력합니다.\n",
    "print(\"이름\", \"총점\", \"평균\", sep=\"\\t\")\n",
    "for student in students:\n",
    "    print(str(student)) # str()함수의 매개변수로 넣으면 student의 __str__()함수가 호출됨"
   ]
  },
  {
   "cell_type": "markdown",
   "metadata": {},
   "source": [
    "<크기 비교 함수>"
   ]
  },
  {
   "cell_type": "code",
   "execution_count": 25,
   "metadata": {},
   "outputs": [
    {
     "name": "stdout",
     "output_type": "stream",
     "text": [
      "student_a == student_b =  False\n",
      "student_a != student_b =  True\n",
      "student_a >  student_b =  False\n",
      "student_a >= student_b =  False\n",
      "student_a <  student_b =  True\n",
      "student_a <= student_b =  True\n"
     ]
    }
   ],
   "source": [
    "# 클래스를 선언합니다.\n",
    "class Student:\n",
    "    def __init__(self, name, korean, math, english, science):\n",
    "        self.name = name\n",
    "        self.korean = korean\n",
    "        self.math = math\n",
    "        self.english = english\n",
    "        self.science = science\n",
    "\n",
    "    def get_sum(self):\n",
    "        return self.korean + self.math +\\\n",
    "            self.english + self.science\n",
    "\n",
    "    def get_average(self):\n",
    "        return self.get_sum() / 4\n",
    "\n",
    "    def __str__(self, student):\n",
    "        return \"{}\\t{}\\t{}\".format(\n",
    "            self.name,\n",
    "            self.get_sum(student),\n",
    "            self.get_average(student))\n",
    "\n",
    "    def __eq__(self, value): # 같다\n",
    "        return self.get_sum() == value.get_sum()\n",
    "    def __ne__(self, value): # 다르다\n",
    "        return self.get_sum() != value.get_sum()\n",
    "    def __gt__(self, value): # 크다\n",
    "        return self.get_sum() > value.get_sum()\n",
    "    def __ge__(self, value): # 크거나 같다\n",
    "        return self.get_sum() >= value.get_sum()\n",
    "    def __lt__(self, value): # 작다\n",
    "        return self.get_sum() < value.get_sum()\n",
    "    def __le____(self, value): # 작거나 같다\n",
    "        return self.get_sum() <= value.get_sum()\n",
    "\n",
    "# 학생 리스트를 선언합니다.\n",
    "students = [\n",
    "    Student(\"윤인성\", 87, 98, 88, 95),\n",
    "    Student(\"연하진\", 92, 98, 96, 98),\n",
    "    Student(\"구지연\", 76, 96, 94, 90),\n",
    "    Student(\"나선주\", 98, 92, 96, 92),\n",
    "    Student(\"윤아린\", 95, 98, 98, 98),\n",
    "    Student(\"윤명월\", 64, 88, 92, 92)\n",
    "]\n",
    "\n",
    "# 학생을 선언합니다.\n",
    "student_a = Student(\"윤인성\", 87, 98, 88, 95),\n",
    "student_b = Student(\"연하진\", 92, 98, 96, 98),\n",
    "\n",
    "# 출력합니다.\n",
    "print(\"student_a == student_b = \", student_a == student_b)\n",
    "print(\"student_a != student_b = \", student_a != student_b)\n",
    "print(\"student_a >  student_b = \", student_a >  student_b)\n",
    "print(\"student_a >= student_b = \", student_a >= student_b)\n",
    "print(\"student_a <  student_b = \", student_a <  student_b)\n",
    "print(\"student_a <= student_b = \", student_a <= student_b)"
   ]
  },
  {
   "cell_type": "markdown",
   "metadata": {},
   "source": [
    "### 3. 클래스 변수와 메소드\n",
    "\n",
    "인스턴스가 속성과 기능을 가질 수도 있지만 클래스가 속성과 기능을 가질 수도 있음"
   ]
  },
  {
   "cell_type": "markdown",
   "metadata": {},
   "source": [
    "<클래스 변수> : class 구문 바로 아래에 변수 선언\n",
    "\n",
    "-> 일반적인 변수로 만드나 클래스 변수로 만드나 큰 차이가 없지만 클래스가 가진 기능을 명시적으로 나타내는 변수를 생성하는 것"
   ]
  },
  {
   "cell_type": "code",
   "execution_count": 28,
   "metadata": {},
   "outputs": [
    {
     "name": "stdout",
     "output_type": "stream",
     "text": [
      "1번째 학생이 생성되었습니다.\n",
      "2번째 학생이 생성되었습니다.\n",
      "3번째 학생이 생성되었습니다.\n",
      "4번째 학생이 생성되었습니다.\n",
      "5번째 학생이 생성되었습니다.\n",
      "6번째 학생이 생성되었습니다.\n",
      "\n",
      "현재 생성된 총 학생 수는 6명입니다.\n"
     ]
    }
   ],
   "source": [
    "# 클래스를 선언합니다.\n",
    "class Student:\n",
    "    count = 0\n",
    "\n",
    "    def __init__(self, name, korean, math, english, science):\n",
    "        # 인스턴스 변수 초기화\n",
    "        self.name = name\n",
    "        self.korean = korean\n",
    "        self.math = math\n",
    "        self.english = english\n",
    "        self.science = science\n",
    "        \n",
    "        # 클래스 변수 설정\n",
    "        Student.count += 1\n",
    "        print(\"{}번째 학생이 생성되었습니다.\".format(Student.count))\n",
    "    \n",
    "\n",
    "# 학생 리스트를 선언합니다.\n",
    "students = [\n",
    "    Student(\"윤인성\", 87, 98, 88, 95),\n",
    "    Student(\"연하진\", 92, 98, 96, 98),\n",
    "    Student(\"구지연\", 76, 96, 94, 90),\n",
    "    Student(\"나선주\", 98, 92, 96, 92),\n",
    "    Student(\"윤아린\", 95, 98, 98, 98),\n",
    "    Student(\"윤명월\", 64, 88, 92, 92)\n",
    "]\n",
    "\n",
    "# 출력합니다.\n",
    "print()\n",
    "print(\"현재 생성된 총 학생 수는 {}명입니다.\".format(Student.count))"
   ]
  },
  {
   "cell_type": "markdown",
   "metadata": {},
   "source": [
    "<클래스 함수>\n",
    "\n",
    "-> 일반적인 함수로 만드나 클래스 함수로 만드나 사용에는 큰 차이가 없지만 클래스가 가진 기능이라고 명시적으로 나타내는 것"
   ]
  },
  {
   "cell_type": "code",
   "execution_count": 32,
   "metadata": {},
   "outputs": [
    {
     "name": "stdout",
     "output_type": "stream",
     "text": [
      "------ 학생 목록 ------\n",
      "이름\t총점\t평균\n",
      "윤인성\t368\t92.0\n",
      "연하진\t384\t96.0\n",
      "구지연\t356\t89.0\n",
      "나선주\t378\t94.5\n",
      "윤아린\t389\t97.25\n",
      "윤명월\t336\t84.0\n",
      "김미화\t354\t88.5\n",
      "김연화\t332\t83.0\n",
      "박아현\t372\t93.0\n",
      "서준서\t247\t61.75\n",
      "------- ------- -------\n"
     ]
    }
   ],
   "source": [
    "# 클래스를 선언합니다.\n",
    "class Student:\n",
    "    # 클래스 변수\n",
    "    count = 0\n",
    "    students = []\n",
    "\n",
    "    # 클래스 함수\n",
    "    @classmethod # 클래스 데코레이터\n",
    "    def print(cls):\n",
    "        print(\"------ 학생 목록 ------\")\n",
    "        print(\"이름\\t총점\\t평균\")\n",
    "        for student in cls.students: # Student.stuents라 해도 되지만 매개변수로 받은 cls을 사용\n",
    "            print(str(student))\n",
    "        print(\"------- ------- -------\")\n",
    "\n",
    "    # 인스턴스 함수\n",
    "    def __init__(self, name, korean, math, english, science):\n",
    "        self.name = name\n",
    "        self.korean = korean\n",
    "        self.math = math\n",
    "        self.english = english\n",
    "        self.science = science\n",
    "        Student.count += 1\n",
    "        Student.students.append(self)\n",
    "\n",
    "    def get_sum(self):\n",
    "        return self.korean + self.math +\\\n",
    "            self.english + self.science\n",
    "\n",
    "    def get_average(self):\n",
    "        return self.get_sum() / 4\n",
    "\n",
    "    def __str__(self):\n",
    "        return \"{}\\t{}\\t{}\".format(\\\n",
    "            self.name,\\\n",
    "            self.get_sum(),\\\n",
    "            self.get_average())\n",
    "\n",
    "# 학생 리스트를 선언합니다.\n",
    "Student(\"윤인성\", 87, 98, 88, 95)\n",
    "Student(\"연하진\", 92, 98, 96, 98)\n",
    "Student(\"구지연\", 76, 96, 94, 90)\n",
    "Student(\"나선주\", 98, 92, 96, 92)\n",
    "Student(\"윤아린\", 95, 98, 98, 98)\n",
    "Student(\"윤명월\", 64, 88, 92, 92)\n",
    "Student(\"김미화\", 82, 86, 98, 88)\n",
    "Student(\"김연화\", 88, 74, 78, 92)\n",
    "Student(\"박아현\", 97, 92, 88, 95)\n",
    "Student(\"서준서\", 45, 52, 72, 78)\n",
    "\n",
    "# 현재 생성된 학생을 모두 출력합니다.\n",
    "Student.print()"
   ]
  },
  {
   "cell_type": "markdown",
   "metadata": {},
   "source": [
    "-----------------------------------------------------------------------------------------------------------------------------------------------------------"
   ]
  },
  {
   "cell_type": "markdown",
   "metadata": {},
   "source": [
    "## <가비지 컬렉터> : 더 이상 사용할 가능성이 없는 데이터를 메모리에서 제거하는 역할\n",
    "\n",
    "더 이상 사용할 가능성이 없는 데이터 = 변수에 저장되지 않거나, 함수 등에서 나오면서 변수를 활용할 수 없게 되는 경우"
   ]
  },
  {
   "cell_type": "code",
   "execution_count": 33,
   "metadata": {},
   "outputs": [
    {
     "name": "stdout",
     "output_type": "stream",
     "text": [
      "A - 생성되었습니다\n",
      "A - 파괴되었습니다\n",
      "B - 생성되었습니다\n",
      "B - 파괴되었습니다\n",
      "C - 생성되었습니다\n"
     ]
    },
    {
     "data": {
      "text/plain": [
       "<__main__.Test at 0x10a427fd0>"
      ]
     },
     "execution_count": 33,
     "metadata": {},
     "output_type": "execute_result"
    }
   ],
   "source": [
    "class Test:\n",
    "    def __init__(self, name):\n",
    "        self.name = name\n",
    "        print(\"{} - 생성되었습니다\".format(self.name))\n",
    "    def __del__(self):\n",
    "        print(\"{} - 파괴되었습니다\".format(self.name))\n",
    "\n",
    "Test(\"A\")\n",
    "Test(\"B\")\n",
    "Test(\"C\")"
   ]
  },
  {
   "cell_type": "markdown",
   "metadata": {},
   "source": [
    "A가 생성되고 다음 줄로 넘어갈 때 이것을 변수에 저장하지 않으면 가비지 컬렉터는 이후에 활용하지 않겠다는 의미로 이해하고 메모리를 아끼기 위해 과감히 지워 버림\n",
    "\n",
    "따라서 A가 생성되고, 사용되지 않을 것이 확실하므로 A를 제거해서 소멸함\n",
    "\n",
    "이러한 과정으로 A생성, A파괴, B생성, B파괴, C생성, C파괴"
   ]
  },
  {
   "cell_type": "code",
   "execution_count": 34,
   "metadata": {},
   "outputs": [
    {
     "name": "stdout",
     "output_type": "stream",
     "text": [
      "A - 생성되었습니다\n",
      "B - 생성되었습니다\n",
      "C - 생성되었습니다\n"
     ]
    }
   ],
   "source": [
    "class Test:\n",
    "    def __init__(self, name):\n",
    "        self.name = name\n",
    "        print(\"{} - 생성되었습니다\".format(self.name))\n",
    "    def __del__(self):\n",
    "        print(\"{} - 파괴되었습니다\".format(self.name))\n",
    "\t\t\n",
    "a = Test(\"A\")\n",
    "b = Test(\"B\")\n",
    "c = Test(\"C\")"
   ]
  },
  {
   "cell_type": "markdown",
   "metadata": {},
   "source": [
    "변수에 데이터가 저장된 경우이므로 A, B, C는 생성되고 소멸되지 않음"
   ]
  },
  {
   "cell_type": "markdown",
   "metadata": {},
   "source": [
    "## <프라이빗 변수와 게터/세터>"
   ]
  },
  {
   "cell_type": "markdown",
   "metadata": {},
   "source": [
    "<프라이빗 변수> : 클래스 내부의 변수를 외부에서 사용하는 것을 막고 싶을 때 인스턴스 변수 이름을 __<변수 이름> 형태로 선언함"
   ]
  },
  {
   "cell_type": "markdown",
   "metadata": {},
   "source": [
    "Circle 클래스의 radius 속성에 음수를 넣으면 원의 넓이는 제곱해서 괜찮지만, 둘레는 음수가 나오므로 radius를 음수로 넣는 것을 막아야 함"
   ]
  },
  {
   "cell_type": "code",
   "execution_count": 35,
   "metadata": {},
   "outputs": [
    {
     "name": "stdout",
     "output_type": "stream",
     "text": [
      "# 원의 둘레와 넓이를 구합니다.\n",
      "원의 둘레: 62.83185307179586\n",
      "원의 넓이: 314.1592653589793\n",
      "\n",
      "# __radius에 접근합니다.\n"
     ]
    },
    {
     "ename": "AttributeError",
     "evalue": "'Circle' object has no attribute '__radius'",
     "output_type": "error",
     "traceback": [
      "\u001b[0;31m---------------------------------------------------------------------------\u001b[0m",
      "\u001b[0;31mAttributeError\u001b[0m                            Traceback (most recent call last)",
      "Cell \u001b[0;32mIn[35], line 22\u001b[0m\n\u001b[1;32m     20\u001b[0m \u001b[38;5;66;03m# __radius에 접근합니다.\u001b[39;00m\n\u001b[1;32m     21\u001b[0m \u001b[38;5;28mprint\u001b[39m(\u001b[38;5;124m\"\u001b[39m\u001b[38;5;124m# __radius에 접근합니다.\u001b[39m\u001b[38;5;124m\"\u001b[39m)\n\u001b[0;32m---> 22\u001b[0m \u001b[38;5;28mprint\u001b[39m(\u001b[43mcircle\u001b[49m\u001b[38;5;241;43m.\u001b[39;49m\u001b[43m__radius\u001b[49m)\n",
      "\u001b[0;31mAttributeError\u001b[0m: 'Circle' object has no attribute '__radius'"
     ]
    }
   ],
   "source": [
    "# 모듈을 가져옵니다.\n",
    "import math\n",
    "\n",
    "# 클래스를 선언합니다.\n",
    "class Circle:\n",
    "    def __init__(self, radius):\n",
    "        self.__radius = radius\n",
    "    def get_circumference(self):\n",
    "        return 2 * math.pi *  self.__radius\n",
    "    def get_area(self):\n",
    "        return math.pi * (self.__radius ** 2)\n",
    "\n",
    "# 원의 둘레와 넓이를 구합니다.\n",
    "circle = Circle(10)\n",
    "print(\"# 원의 둘레와 넓이를 구합니다.\")\n",
    "print(\"원의 둘레:\", circle.get_circumference())\n",
    "print(\"원의 넓이:\", circle.get_area())\n",
    "print()\n",
    "\n",
    "# __radius에 접근합니다.\n",
    "print(\"# __radius에 접근합니다.\")\n",
    "print(circle.__radius)"
   ]
  },
  {
   "cell_type": "markdown",
   "metadata": {},
   "source": [
    "클래스 내부에서 __radius를 사용하는 것은 아무 문제 없지만, 클래스 외부에서 __radius를 사용하려고 할 때 그런 속성이 없다는 오류를 출력"
   ]
  },
  {
   "cell_type": "markdown",
   "metadata": {},
   "source": [
    "<게터 / 세터> : 프라이빗 변수의 값을 추출하거나 변경할 목적으로 간접적으로 속성에서 접근하도록 해주는 함수 -> 즉, 클래스 외부에서 프라이빗 함수에 간접적으로 접근하도록 함"
   ]
  },
  {
   "cell_type": "code",
   "execution_count": 39,
   "metadata": {},
   "outputs": [
    {
     "name": "stdout",
     "output_type": "stream",
     "text": [
      "# 원의 둘레와 넓이를 구합니다.\n",
      "원의 둘레: 62.83185307179586\n",
      "원의 넓이: 314.1592653589793\n",
      "\n",
      "# __radius에 접근합니다.\n",
      "10\n",
      "\n",
      "# 반지름을 변경하고 원의 둘레와 넓이를 구합니다.\n",
      "원의 둘레: 12.566370614359172\n",
      "원의 넓이: 12.566370614359172\n"
     ]
    }
   ],
   "source": [
    "# 모듈을 가져옵니다.\n",
    "import math\n",
    "\n",
    "# 클래스를 선언합니다.\n",
    "class Circle:\n",
    "    def __init__(self, radius):\n",
    "        self.__radius = radius\n",
    "    def get_circumference(self):\n",
    "        return 2 * math.pi *  self.__radius\n",
    "    def get_area(self):\n",
    "        return math.pi * (self.__radius ** 2)\n",
    "\n",
    "    # 겟터와 셋터를 선언합니다. -> 프라이빗 변수에 접근\n",
    "    def get_radius(self):\n",
    "        return self.__radius\n",
    "    def set_radius(self, value):\n",
    "        self.__radius = value\n",
    "\n",
    "# 원의 둘레와 넓이를 구합니다.\n",
    "circle = Circle(10)\n",
    "print(\"# 원의 둘레와 넓이를 구합니다.\")\n",
    "print(\"원의 둘레:\", circle.get_circumference())\n",
    "print(\"원의 넓이:\", circle.get_area())\n",
    "print()\n",
    "\n",
    "# 간접적으로 __radius에 접근합니다.\n",
    "print(\"# __radius에 접근합니다.\")\n",
    "print(circle.get_radius())\n",
    "print()\n",
    "\n",
    "# 원의 둘레와 넓이를 구합니다.\n",
    "circle.set_radius(2)\n",
    "print(\"# 반지름을 변경하고 원의 둘레와 넓이를 구합니다.\")\n",
    "print(\"원의 둘레:\", circle.get_circumference())\n",
    "print(\"원의 넓이:\", circle.get_area())"
   ]
  },
  {
   "cell_type": "code",
   "execution_count": 40,
   "metadata": {},
   "outputs": [
    {
     "name": "stdout",
     "output_type": "stream",
     "text": [
      "# 원의 둘레와 넓이를 구합니다.\n",
      "원의 둘레: 62.83185307179586\n",
      "원의 넓이: 314.1592653589793\n",
      "\n",
      "# __radius에 접근합니다.\n",
      "10\n",
      "\n",
      "# 반지름을 변경하고 원의 둘레와 넓이를 구합니다.\n",
      "원의 둘레: 12.566370614359172\n",
      "원의 넓이: 12.566370614359172\n"
     ]
    }
   ],
   "source": [
    "# 게터 세터로 radius를 양수로 제한\n",
    "\n",
    "# 모듈을 가져옵니다.\n",
    "import math\n",
    "\n",
    "# 클래스를 선언합니다.\n",
    "class Circle:\n",
    "    def __init__(self, radius):\n",
    "        self.__radius = radius\n",
    "    def get_circumference(self):\n",
    "        return 2 * math.pi *  self.__radius\n",
    "    def get_area(self):\n",
    "        return math.pi * (self.__radius ** 2)\n",
    "\n",
    "    # 겟터와 셋터를 선언합니다. -> 프라이빗 변수에 접근\n",
    "    def get_radius(self):\n",
    "        return self.__radius\n",
    "    def set_radius(self, value):\n",
    "        if value <= 0:\n",
    "            raise TypeError(\"길이는 양의 숫자여야 합니다.\")\n",
    "        self.__radius = value\n",
    "\n",
    "# 원의 둘레와 넓이를 구합니다.\n",
    "circle = Circle(10)\n",
    "print(\"# 원의 둘레와 넓이를 구합니다.\")\n",
    "print(\"원의 둘레:\", circle.get_circumference())\n",
    "print(\"원의 넓이:\", circle.get_area())\n",
    "print()\n",
    "\n",
    "# 간접적으로 __radius에 접근합니다.\n",
    "print(\"# __radius에 접근합니다.\")\n",
    "print(circle.get_radius())\n",
    "print()\n",
    "\n",
    "# 원의 둘레와 넓이를 구합니다.\n",
    "circle.set_radius(2)\n",
    "print(\"# 반지름을 변경하고 원의 둘레와 넓이를 구합니다.\")\n",
    "print(\"원의 둘레:\", circle.get_circumference())\n",
    "print(\"원의 넓이:\", circle.get_area())"
   ]
  },
  {
   "cell_type": "markdown",
   "metadata": {},
   "source": [
    "데코레이터를 사용"
   ]
  },
  {
   "cell_type": "code",
   "execution_count": 41,
   "metadata": {},
   "outputs": [
    {
     "name": "stdout",
     "output_type": "stream",
     "text": [
      "# 데코레이터를 사용한 Getter와 Setter\n",
      "원래 원의 반지름:  10\n",
      "변경된 원의 반지름:  2\n",
      "\n",
      "# 강제로 예외를 발생시킵니다.\n"
     ]
    },
    {
     "ename": "TypeError",
     "evalue": "길이는 양의 숫자여야 합니다.",
     "output_type": "error",
     "traceback": [
      "\u001b[0;31m---------------------------------------------------------------------------\u001b[0m",
      "\u001b[0;31mTypeError\u001b[0m                                 Traceback (most recent call last)",
      "Cell \u001b[0;32mIn[41], line 33\u001b[0m\n\u001b[1;32m     31\u001b[0m \u001b[38;5;66;03m# 강제로 예외를 발생시킵니다.\u001b[39;00m\n\u001b[1;32m     32\u001b[0m \u001b[38;5;28mprint\u001b[39m(\u001b[38;5;124m\"\u001b[39m\u001b[38;5;124m# 강제로 예외를 발생시킵니다.\u001b[39m\u001b[38;5;124m\"\u001b[39m)\n\u001b[0;32m---> 33\u001b[0m \u001b[43mcircle\u001b[49m\u001b[38;5;241;43m.\u001b[39;49m\u001b[43mradius\u001b[49m \u001b[38;5;241m=\u001b[39m \u001b[38;5;241m-\u001b[39m\u001b[38;5;241m10\u001b[39m\n",
      "Cell \u001b[0;32mIn[41], line 20\u001b[0m, in \u001b[0;36mCircle.radius\u001b[0;34m(self, value)\u001b[0m\n\u001b[1;32m     17\u001b[0m \u001b[38;5;129m@radius\u001b[39m\u001b[38;5;241m.\u001b[39msetter \n\u001b[1;32m     18\u001b[0m \u001b[38;5;28;01mdef\u001b[39;00m \u001b[38;5;21mradius\u001b[39m(\u001b[38;5;28mself\u001b[39m, value):\n\u001b[1;32m     19\u001b[0m     \u001b[38;5;28;01mif\u001b[39;00m value \u001b[38;5;241m<\u001b[39m\u001b[38;5;241m=\u001b[39m \u001b[38;5;241m0\u001b[39m:\n\u001b[0;32m---> 20\u001b[0m         \u001b[38;5;28;01mraise\u001b[39;00m \u001b[38;5;167;01mTypeError\u001b[39;00m(\u001b[38;5;124m\"\u001b[39m\u001b[38;5;124m길이는 양의 숫자여야 합니다.\u001b[39m\u001b[38;5;124m\"\u001b[39m)\n\u001b[1;32m     21\u001b[0m     \u001b[38;5;28mself\u001b[39m\u001b[38;5;241m.\u001b[39m__radius \u001b[38;5;241m=\u001b[39m value\n",
      "\u001b[0;31mTypeError\u001b[0m: 길이는 양의 숫자여야 합니다."
     ]
    }
   ],
   "source": [
    "# 모듈을 가져옵니다.\n",
    "import math\n",
    "\n",
    "# 클래스를 선언합니다.\n",
    "class Circle:\n",
    "    def __init__(self, radius):\n",
    "        self.__radius = radius\n",
    "    def get_circumference(self):\n",
    "        return 2 * math.pi *  self.__radius\n",
    "    def get_area(self):\n",
    "        return math.pi * (self.__radius ** 2)\n",
    "\n",
    "    # 게터와 세터를 선언합니다.\n",
    "    @property # 겟터 선언\n",
    "    def radius(self):\n",
    "        return self.__radius\n",
    "    @radius.setter # 세터 선언\n",
    "    def radius(self, value):\n",
    "        if value <= 0:\n",
    "            raise TypeError(\"길이는 양의 숫자여야 합니다.\")\n",
    "        self.__radius = value\n",
    "\n",
    "# 원의 둘레와 넓이를 구합니다.\n",
    "print(\"# 데코레이터를 사용한 Getter와 Setter\")\n",
    "circle = Circle(10)\n",
    "print(\"원래 원의 반지름: \", circle.radius)\n",
    "circle.radius = 2 # 겟터, 세터 사용해 간접적으로 클래스 내부의 프라이빗 변수 값을 변경\n",
    "print(\"변경된 원의 반지름: \", circle.radius)\n",
    "print()\n",
    "\n",
    "# 강제로 예외를 발생시킵니다.\n",
    "print(\"# 강제로 예외를 발생시킵니다.\") # 겟터, 세터를 사용해 간접적으로 클래스 내브의 프라이빗 변수 예외처리\n",
    "circle.radius = -10"
   ]
  },
  {
   "cell_type": "markdown",
   "metadata": {},
   "source": [
    "이렇게 하면 circle.get_radius(), circle.set_radius() 호출 필요 없이 circle.radius를 사용하는 것만으로 자동으로 겟터와 세터가 호출되도록 함"
   ]
  },
  {
   "cell_type": "markdown",
   "metadata": {},
   "source": [
    "## <상속>"
   ]
  },
  {
   "cell_type": "code",
   "execution_count": 42,
   "metadata": {},
   "outputs": [
    {
     "name": "stdout",
     "output_type": "stream",
     "text": [
      "Parent 클래스의 __init()__ 메서드가 호출되었습니다.\n",
      "Child 클래스의 __init()__ 메서드가 호출되었습니다.\n",
      "Parent 클래스의 test() 메서드입니다.\n",
      "테스트\n"
     ]
    }
   ],
   "source": [
    "# 부모 클래스를 선언합니다.\n",
    "class Parent:\n",
    "    def __init__(self):\n",
    "        self.value = \"테스트\"\n",
    "        print(\"Parent 클래스의 __init()__ 메서드가 호출되었습니다.\")\n",
    "    def test(self):\n",
    "        print(\"Parent 클래스의 test() 메서드입니다.\")\n",
    "\n",
    "# 자식 클래스를 선언합니다.\n",
    "class Child(Parent):\n",
    "    def __init__(self):\n",
    "        super().__init__() # 부모의 __init__() 함수를 호출합니다.\n",
    "        print(\"Child 클래스의 __init()__ 메서드가 호출되었습니다.\")\n",
    "\n",
    "# 자식 클래스의 인스턴스를 생성하고 부모의 메서드를 호출합니다.\n",
    "child = Child()\n",
    "child.test()\n",
    "print(child.value)"
   ]
  },
  {
   "cell_type": "markdown",
   "metadata": {},
   "source": [
    "### 1. 상속 : 만들어 놓은 기본 형태에 원하는 것만 교체\n",
    "### 2. 다중 상속 : 다른 누군가가 만들어 놓은 형태들을 조립해서 원하는 것을 만들기\n",
    "<부모> : 기반이 되는 것\n",
    "\n",
    "<자식> : 기반으로 생성한 것\n",
    "\n",
    "<상속> : 부모가 자식에게 자신의 기반을 물려주는 것"
   ]
  },
  {
   "cell_type": "code",
   "execution_count": 43,
   "metadata": {},
   "outputs": [
    {
     "name": "stdout",
     "output_type": "stream",
     "text": [
      "Parent 클래스의 __init()__ 메서드가 호출되었습니다.\n",
      "Child 클래스의 __init()__ 메서드가 호출되었습니다.\n",
      "Parent 클래스의 test() 메서드입니다.\n",
      "테스트\n"
     ]
    }
   ],
   "source": [
    "# 부모 클래스를 선언합니다.\n",
    "class Parent:\n",
    "    def __init__(self):\n",
    "        self.value = \"테스트\"\n",
    "        print(\"Parent 클래스의 __init()__ 메서드가 호출되었습니다.\")\n",
    "    def test(self):\n",
    "        print(\"Parent 클래스의 test() 메서드입니다.\")\n",
    "\n",
    "# 자식 클래스를 선언합니다.\n",
    "class Child(Parent):\n",
    "    def __init__(self):\n",
    "        super().__init__() # 부모의 __init__() 함수를 호출합니다.\n",
    "        print(\"Child 클래스의 __init()__ 메서드가 호출되었습니다.\")\n",
    "\n",
    "# 자식 클래스의 인스턴스를 생성하고 부모의 메서드를 호출합니다.\n",
    "child = Child()\n",
    "child.test()\n",
    "print(child.value)"
   ]
  },
  {
   "cell_type": "code",
   "execution_count": 45,
   "metadata": {},
   "outputs": [
    {
     "ename": "CustomException",
     "evalue": "",
     "output_type": "error",
     "traceback": [
      "\u001b[0;31m---------------------------------------------------------------------------\u001b[0m",
      "\u001b[0;31mCustomException\u001b[0m                           Traceback (most recent call last)",
      "Cell \u001b[0;32mIn[45], line 6\u001b[0m\n\u001b[1;32m      3\u001b[0m     \u001b[38;5;28;01mdef\u001b[39;00m \u001b[38;5;21m__init__\u001b[39m(\u001b[38;5;28mself\u001b[39m):\n\u001b[1;32m      4\u001b[0m         \u001b[38;5;28msuper\u001b[39m()\u001b[38;5;241m.\u001b[39m\u001b[38;5;21m__init__\u001b[39m()\n\u001b[0;32m----> 6\u001b[0m \u001b[38;5;28;01mraise\u001b[39;00m CustomException\n",
      "\u001b[0;31mCustomException\u001b[0m: "
     ]
    }
   ],
   "source": [
    "# Exception이라는 기존 클래스를 수정해서 CustomException 클래스 만들기\n",
    "class CustomException(Exception):\n",
    "    def __init__(self):\n",
    "        super().__init__()\n",
    "        \n",
    "raise CustomException"
   ]
  },
  {
   "cell_type": "code",
   "execution_count": 46,
   "metadata": {},
   "outputs": [
    {
     "name": "stdout",
     "output_type": "stream",
     "text": [
      "##### 내가 만든 오류가 생성되었어요! #####\n"
     ]
    },
    {
     "ename": "CustomException",
     "evalue": "오류가 발생했어요",
     "output_type": "error",
     "traceback": [
      "\u001b[0;31m---------------------------------------------------------------------------\u001b[0m",
      "\u001b[0;31mCustomException\u001b[0m                           Traceback (most recent call last)",
      "Cell \u001b[0;32mIn[46], line 9\u001b[0m\n\u001b[1;32m      6\u001b[0m     \u001b[38;5;28;01mdef\u001b[39;00m \u001b[38;5;21m__str__\u001b[39m(\u001b[38;5;28mself\u001b[39m):\n\u001b[1;32m      7\u001b[0m         \u001b[38;5;28;01mreturn\u001b[39;00m \u001b[38;5;124m\"\u001b[39m\u001b[38;5;124m오류가 발생했어요\u001b[39m\u001b[38;5;124m\"\u001b[39m\n\u001b[0;32m----> 9\u001b[0m \u001b[38;5;28;01mraise\u001b[39;00m CustomException\n",
      "\u001b[0;31mCustomException\u001b[0m: 오류가 발생했어요"
     ]
    }
   ],
   "source": [
    "# 자식 클래스로써 부모의 함수 재정의(오버라이드)하기\n",
    "class CustomException(Exception):\n",
    "    def __init__(self):\n",
    "        super().__init__()\n",
    "        print(\"##### 내가 만든 오류가 생성되었어요! #####\")\n",
    "    def __str__(self):\n",
    "        return \"오류가 발생했어요\"\n",
    "\n",
    "raise CustomException"
   ]
  },
  {
   "cell_type": "markdown",
   "metadata": {},
   "source": [
    "__str_()함수는 부모 (Exception 클래스)에도 정의되어 있음\n",
    "\n",
    "이처럼 부모에 정의되어 있는 함수를 자식에서 다시 정의하는 것을 오버라이드라고 부름\n",
    "\n",
    "추가로 기존에 있던 함수/변수 이외의 것을 완전히 새로 정의하는 것도 가능"
   ]
  },
  {
   "cell_type": "code",
   "execution_count": 2,
   "metadata": {},
   "outputs": [
    {
     "name": "stdout",
     "output_type": "stream",
     "text": [
      "Parent 클래스의 __init__() 메서드가 호출되었습니다.\n",
      "Child 클래스의 __init__() 메서드가 호출되었습니다.\n",
      "Child 클래스에서 오버라이드된 test() 메서드입니다.\n",
      "테스트\n"
     ]
    }
   ],
   "source": [
    "# 부모 클래스를 선언합니다.\n",
    "class Parent:\n",
    "    def __init__(self):\n",
    "        self.value = \"테스트\"\n",
    "        print(\"Parent 클래스의 __init__() 메서드가 호출되었습니다.\")\n",
    "    \n",
    "    def test(self):\n",
    "        print(\"Parent 클래스의 test() 메서드입니다.\")\n",
    "\n",
    "# 자식 클래스를 선언합니다.\n",
    "class Child(Parent):\n",
    "    def __init__(self):\n",
    "        super().__init__()  # 부모의 __init__() 함수를 호출합니다.\n",
    "        print(\"Child 클래스의 __init__() 메서드가 호출되었습니다.\")\n",
    "    \n",
    "    # 부모 클래스의 test 메서드를 오버라이드합니다.\n",
    "    def test(self):\n",
    "        print(\"Child 클래스에서 오버라이드된 test() 메서드입니다.\")\n",
    "\n",
    "# 자식 클래스의 인스턴스를 생성하고 메서드를 호출합니다.\n",
    "child = Child()\n",
    "child.test()  # 출력: \"Child 클래스에서 오버라이드된 test() 메서드입니다.\"\n",
    "print(child.value)  # 출력: \"테스트\"\n"
   ]
  },
  {
   "cell_type": "code",
   "execution_count": 47,
   "metadata": {},
   "outputs": [
    {
     "name": "stdout",
     "output_type": "stream",
     "text": [
      "###### 오류 정보 ######\n",
      "메시지: 딱히 이유 없음\n",
      "값: 273\n"
     ]
    }
   ],
   "source": [
    "# 자식 클래스로써 부모에 없는 새로운 함수 정의\n",
    "# 사용자 정의 예외를 생성합니다.\n",
    "class CustomException(Exception):\n",
    "    def __init__(self, message, value):\n",
    "        super().__init__()\n",
    "        self.message = message\n",
    "        self.value = value\n",
    "\n",
    "    def __str__(self):\n",
    "        return self.message\n",
    "\n",
    "    def print(self):\n",
    "        print(\"###### 오류 정보 ######\")\n",
    "        print(\"메시지:\", self.message)\n",
    "        print(\"값:\", self.value)\n",
    "# 예외를 발생시켜 봅니다.\n",
    "try:\n",
    "    raise CustomException(\"딱히 이유 없음\", 273)\n",
    "except CustomException as e:\n",
    "    e.print()"
   ]
  },
  {
   "cell_type": "markdown",
   "metadata": {},
   "source": [
    "-----------------------------------------------------------------------------------------------------------------------------------------------------------"
   ]
  },
  {
   "cell_type": "markdown",
   "metadata": {},
   "source": [
    "# <확인 문제>"
   ]
  },
  {
   "cell_type": "code",
   "execution_count": 57,
   "metadata": {},
   "outputs": [
    {
     "ename": "AttributeError",
     "evalue": "'int' object has no attribute 'get_average'",
     "output_type": "error",
     "traceback": [
      "\u001b[0;31m---------------------------------------------------------------------------\u001b[0m",
      "\u001b[0;31mAttributeError\u001b[0m                            Traceback (most recent call last)",
      "Cell \u001b[0;32mIn[57], line 40\u001b[0m\n\u001b[1;32m     37\u001b[0m test \u001b[38;5;241m=\u001b[39m Student(\u001b[38;5;124m\"\u001b[39m\u001b[38;5;124mA\u001b[39m\u001b[38;5;124m\"\u001b[39m, \u001b[38;5;241m90\u001b[39m, \u001b[38;5;241m90\u001b[39m, \u001b[38;5;241m90\u001b[39m, \u001b[38;5;241m90\u001b[39m)\n\u001b[1;32m     39\u001b[0m \u001b[38;5;66;03m# 출력합니다.\u001b[39;00m\n\u001b[0;32m---> 40\u001b[0m \u001b[38;5;28mprint\u001b[39m(\u001b[38;5;124m\"\u001b[39m\u001b[38;5;124mtest == 90:\u001b[39m\u001b[38;5;124m\"\u001b[39m, \u001b[43mtest\u001b[49m\u001b[43m \u001b[49m\u001b[38;5;241;43m==\u001b[39;49m\u001b[43m \u001b[49m\u001b[38;5;241;43m90\u001b[39;49m)\n\u001b[1;32m     41\u001b[0m \u001b[38;5;28mprint\u001b[39m(\u001b[38;5;124m\"\u001b[39m\u001b[38;5;124mtest != 90:\u001b[39m\u001b[38;5;124m\"\u001b[39m, test \u001b[38;5;241m!=\u001b[39m \u001b[38;5;241m90\u001b[39m)\n\u001b[1;32m     42\u001b[0m \u001b[38;5;28mprint\u001b[39m(\u001b[38;5;124m\"\u001b[39m\u001b[38;5;124mtest > 90:\u001b[39m\u001b[38;5;124m\"\u001b[39m, test \u001b[38;5;241m>\u001b[39m \u001b[38;5;241m90\u001b[39m)\n",
      "Cell \u001b[0;32mIn[57], line 24\u001b[0m, in \u001b[0;36mStudent.__eq__\u001b[0;34m(self, value)\u001b[0m\n\u001b[1;32m     23\u001b[0m \u001b[38;5;28;01mdef\u001b[39;00m \u001b[38;5;21m__eq__\u001b[39m(\u001b[38;5;28mself\u001b[39m, value): \n\u001b[0;32m---> 24\u001b[0m     \u001b[38;5;28;01mreturn\u001b[39;00m \u001b[38;5;28mself\u001b[39m\u001b[38;5;241m.\u001b[39mget_average() \u001b[38;5;241m==\u001b[39m \u001b[43mvalue\u001b[49m\u001b[38;5;241;43m.\u001b[39;49m\u001b[43mget_average\u001b[49m()\n",
      "\u001b[0;31mAttributeError\u001b[0m: 'int' object has no attribute 'get_average'"
     ]
    }
   ],
   "source": [
    "# 클래스를 선언합니다.\n",
    "class Student:\n",
    "    def __init__(self, name, korean, math, english, science):\n",
    "        self.name = name\n",
    "        self.korean = korean\n",
    "        self.math = math\n",
    "        self.english = english\n",
    "        self.science = science\n",
    "\n",
    "    def get_sum(self):\n",
    "        return self.korean + self.math +\\\n",
    "            self.english + self.science\n",
    "\n",
    "    def get_average(self):\n",
    "        return self.get_sum() / 4\n",
    "    \n",
    "    def __str__(self, student):\n",
    "        return \"{}\\t{}\\t{}\".format(\n",
    "            self.name,\n",
    "            self.get_sum(student),\n",
    "            self.get_average(student))\n",
    "\n",
    "    def __eq__(self, value): \n",
    "        return self.get_average() == value.get_average()\n",
    "    def __ne__(self, value): \n",
    "        return self.get_average() != value.get_average()\n",
    "    def __gt__(self, value):\n",
    "        return self.get_average() > value.get_average()\n",
    "    def __ge__(self, value):\n",
    "        return self.get_average() >= value.get_average()\n",
    "    def __lt__(self, value):\n",
    "        return self.get_average() < value.get_average()\n",
    "    def __le____(self, value):\n",
    "        return self.get_average() <= value.get_average()\n",
    "\n",
    "# 학생을 선언합니다.\n",
    "test = Student(\"A\", 90, 90, 90, 90)\n",
    "\n",
    "# 출력합니다.\n",
    "print(\"test == 90:\", test == 90)\n",
    "print(\"test != 90:\", test != 90)\n",
    "print(\"test > 90:\", test > 90)\n",
    "print(\"test >= 90:\", test >= 90)\n",
    "print(\"test < 90:\", test < 90)\n",
    "print(\"test <= 90:\", test <= 90)"
   ]
  },
  {
   "cell_type": "markdown",
   "metadata": {},
   "source": [
    "-----------------------------------------------------------------------------------------------------------------------------------------------------------"
   ]
  },
  {
   "cell_type": "markdown",
   "metadata": {},
   "source": [
    "# <메모리>"
   ]
  },
  {
   "cell_type": "markdown",
   "metadata": {},
   "source": [
    "코드 영역 : 실행할 프로그램의 코드가 저장됨\n",
    "\n",
    "데이터 영역 : 전역변수와 정적변수가 저장됨\n",
    "\n",
    "힙 영역 : 사용자가 동적으로 할당하는 변수나 메소드가 저장됨 C 에서는 malloc (런 타임에 크기가 결정됨)\n",
    "\n",
    "스택 영역: 지역변수나 매개변수가 저장됨 (컴파일 타임에 크기가 결정됨)\n",
    "\n",
    "python에서는 Python memory manager 에 의해 메모리가 관리된다. \n",
    "\n",
    "-------------------------------------------------------------------------------------------------------------------------------------------------------------\n",
    "\n",
    "Python 메모리는 크게 스택(stack)과 힙(heap)으로 나뉜다.\n",
    "\n",
    "스택 영역은 함수 호출 시 사용되는 메모리 공간이다. 함수가 호출될 때마다 스택에 해당 함수의 프레임이 추가되고, 지역 변수나 함수(인자, 반환 주소 등과 같은 함수 호출 정보)와 같은 값들이 저장된다. \n",
    "함수가 종료되면 스택에서 제거되어 메모리에서 자동 해제된다. 그러나 스택은 정해진 크기로만 데이터를 저장할 수 있기 때문에 함수 호출과 지역 변수 관리에만 사용된다.\n",
    "\n",
    "힙 영역은 객체와 데이터 구조를 저장하는 공간이다. Python의 모든 데이터는 객체로 취급되므로 숫자, 문자열, 리스트, 딕셔너리 등 대부분의 데이터 힙에 저장된다.\n",
    "힙은 정해진 크기로 데이터를 저장하지 않아도 되며 동적으로 메모리를 할당할 수 있다. 그러나 스택과 달리 명시적으로 해제되지 않으면 남아있기 때문에 가비지 컬렉션이 필요하다.\n",
    "가비지 컬렉션이란 더 이상 참조되지 않는 객체를 메모리를 회수하는 것이다. 참조를 카운팅하는 원리를 사용한다. 객체가 몇 개의 참조를 가지고 있는지를 카운팅하고 참조 카운트가 0이 되면 해당 객체는 더 이상 사용되지 않는 것으로 판단하여 메모리를 해제한다.\n",
    "\n",
    "Python에서 변수는 객체를 저장하는 것이 아니라 객체에 대한 참조를 저장한다. 또한 Python은 같은 값을 갖는 객체에 대해 하나의 객체를 참조하게 한다. 예를 들어 x = 1000과 y = 1000이라고 할 때 이 둘이 동일한 객체를 참조하게 하여 메모리를 절약한다. 경우에 따라 큰 값이거나 동적인 값이라면 별개의 객체로 관리될 수도 있다. 이러한 원리로 예를 들어 a = [1, 2, 3]을 선언하면 리스트 [1, 2, 3]은 힙에 저장되고, 변수 a는 스택에 위치하며 힙에 있는 리스트를 참조하게 된다.\n",
    "\n",
    "\n"
   ]
  },
  {
   "cell_type": "code",
   "execution_count": 3,
   "metadata": {},
   "outputs": [],
   "source": [
    "def add(a, b):\n",
    "    result = a + b\n",
    "    return result\n",
    "\n",
    "x = 10\n",
    "y = 20\n",
    "sum = add(x, y)\n",
    "\n",
    "# 함수 add가 호출되면 a, b, result는 스택에 저장되며, 함수가 종료되면 자동으로 해제되고 변수 sum은 힙에 저장된 result의 참조를 가지게 된다."
   ]
  }
 ],
 "metadata": {
  "kernelspec": {
   "display_name": "prompt",
   "language": "python",
   "name": "python3"
  },
  "language_info": {
   "codemirror_mode": {
    "name": "ipython",
    "version": 3
   },
   "file_extension": ".py",
   "mimetype": "text/x-python",
   "name": "python",
   "nbconvert_exporter": "python",
   "pygments_lexer": "ipython3",
   "version": "3.11.9"
  }
 },
 "nbformat": 4,
 "nbformat_minor": 2
}
