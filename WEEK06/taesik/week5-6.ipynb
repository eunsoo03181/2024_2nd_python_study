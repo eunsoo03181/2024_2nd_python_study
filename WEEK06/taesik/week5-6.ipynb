{
 "cells": [
  {
   "cell_type": "markdown",
   "metadata": {},
   "source": [
    "-객체:속성과 메소드를 갖는 것, 여러가지 속성을 가질 수 있는 대상."
   ]
  },
  {
   "cell_type": "code",
   "execution_count": null,
   "metadata": {},
   "outputs": [],
   "source": [
    "def create_student(name, kor, math, science):\n",
    "    return{\n",
    "        \"name\":name,\n",
    "        \"kor\":kor,\n",
    "        \"math\":math,\n",
    "        \"science\":science\n",
    "        }"
   ]
  },
  {
   "cell_type": "markdown",
   "metadata": {},
   "source": [
    "위에 처럼 student라는 객체를 생성하고 name,kor,math등 다양한 속성을 부여할 수 있다."
   ]
  },
  {
   "cell_type": "markdown",
   "metadata": {},
   "source": [
    "-클래스:객체를 효율적으로 생성하기 위한 구문"
   ]
  },
  {
   "cell_type": "code",
   "execution_count": null,
   "metadata": {},
   "outputs": [],
   "source": [
    "class Student:\n",
    "    def __init__(self,name,kor,math,science):\n",
    "        self.name=name\n",
    "        self.kor=kor\n",
    "        self.math=math\n",
    "        self.science=science"
   ]
  },
  {
   "cell_type": "markdown",
   "metadata": {},
   "source": [
    "__init__ 은 생성자로써 객체를 생성할 때 처리할 내용을 작성한다.\n",
    "그리고 self.'속성'의 매개변수에 '속성'을 할당한다.\n",
    "*__init__ 에 속성을 적을때 첫번째로는 무조건 self가 와야 한다. "
   ]
  },
  {
   "cell_type": "markdown",
   "metadata": {},
   "source": [
    "-인스턴스:클래스를 기반으로 만들어진 객체. 간단히 클래스 안에 객체는 그 클래스의 인스턴스라고 말할 수 있지만, 모든 객체가 인스턴스라고 하기는 어렵다."
   ]
  },
  {
   "cell_type": "markdown",
   "metadata": {},
   "source": [
    "-객체 지향 프로그래밍(OOP)\n",
    " 조금 ROUGH하게 말하면 모든 생성자, 클래스, 인스턴스, 메소드 등은 객체를 위해 존재한다.\n",
    " 객체 지향 프로그래밍은 위와 같이 말 그대로 객체 기반 프로그램을 만드는 언어를 말한다. C언어를 제외한 대부분의 프로그래밍 언어는 객체 지향적이다.\n",
    " *c언어는 절차 기반 프로그래밍*\n",
    "  -이러한 OOP의 특성으로 '상속'이 있다.\n",
    "   상속은 A의 좋은 점을 ctrl+C 해서 B의 ctrl+V 하는거라고 이해 할 수 있다.\n",
    "   상속의 장점: 1. 재사용 가능:코드 중복이 줄일 수 있다.\n",
    "            2.유지 보수 용이: 부모 class에서 수정하면 자식 class에도 적용된다.\n",
    "            3.다형성: 동명 메소드에서 다른 동작을 가능하게 해줌."
   ]
  },
  {
   "cell_type": "markdown",
   "metadata": {},
   "source": [
    "-상속의 활용"
   ]
  },
  {
   "cell_type": "code",
   "execution_count": null,
   "metadata": {},
   "outputs": [],
   "source": [
    "# 부모 클래스: Animal\n",
    "class Animal:\n",
    "    def __init__(self, name):\n",
    "        self.name = name  # 동물 이름 초기화\n",
    "\n",
    "    def speak(self):\n",
    "        return \"Some sound\"  # 기본적인 소리\n",
    "\n",
    "# 자식 클래스: Dog\n",
    "class Dog(Animal):\n",
    "    def speak(self):\n",
    "        return \"월월!\"  # 개의 소리\n",
    "\n",
    "# 자식 클래스: Cat\n",
    "class Cat(Animal):\n",
    "    def speak(self):\n",
    "        return \"미야옹!\"  # 고양이의 소리\n",
    "\n",
    "# 인스턴스 생성\n",
    "dog = Dog(\"누렁이\")\n",
    "cat = Cat(\"나비\")\n",
    "\n",
    "# 메서드 호출\n",
    "print(f\"{dog.name}는 {dog.speak()}\")  \n",
    "print(f\"{cat.name}는 {cat.speak()}\")  \n"
   ]
  },
  {
   "cell_type": "markdown",
   "metadata": {},
   "source": [
    "1. 부모의 init,speak 메소드를 자식 클래스에서 '재사용'\n",
    "2. 부모의 speak 메소드 수정 시, 자식 클래스에서도 자동 반영.\n",
    "3. 동일한 부모의 speak를 이용하지만 다른 동작을 사용함."
   ]
  },
  {
   "cell_type": "markdown",
   "metadata": {},
   "source": [
    "-파이썬에서의 오류\n",
    " 1. 프로그램 실행 전 오류 -> 구문 오류\n",
    " 2. 프로그램 실행 중 오류 -> 예외 or 런타임 오류"
   ]
  },
  {
   "cell_type": "code",
   "execution_count": null,
   "metadata": {},
   "outputs": [],
   "source": [
    "#구문 오류, 예외 처리 예제\n",
    "import math  # math 모듈을 임포트\n",
    "\n",
    "# 사용자로부터 숫자 입력 받기\n",
    "number = float(input(\"숫자를 입력하세요: \"))\n",
    "\n",
    "# 제곱근 계산\n",
    "if number < 0:\n",
    "raise ValueError(\"음수의 제곱근은 허수입니다.\")\n",
    "else:\n",
    "    square_root = math.sqrt(number)  # 제곱근 계산\n",
    "    # 결과 출력\n",
    "    print(f\"{number}의 제곱근은 {square_root입니다.\")"
   ]
  },
  {
   "cell_type": "markdown",
   "metadata": {},
   "source": [
    "print(f\"{number}의 제곱근은 {square_root입니다.\"):실행시 오류 발생-> square_root 괄호를 닫지 않아서. \n",
    "\n",
    "if number < 0:\n",
    "raise ValueError(\"음수의 제곱근은 허수입니다.\")-> 들여쓰기를 올바르게 하지 않아서 오류 발생."
   ]
  },
  {
   "cell_type": "markdown",
   "metadata": {},
   "source": [
    "예외를 처리하는 두가지 방법: 1. 조건문\n",
    "                            2.Try구문"
   ]
  },
  {
   "cell_type": "markdown",
   "metadata": {},
   "source": [
    "1. 조건문: 위에 예제처럼 음수를 입력 받을 경우 if,else문을 활용해 예외 처리 할 수 있다.\n",
    "2.Try except 구문: 4가지 과정으로 나눌 수 있다.\n",
    "  (1)try:예외가 생길거 같은 코드\n",
    "  (2)except:예외 발생.\n",
    "  (3)else:예외가 아니면 실행할 코드\n",
    "  (4)finally:예외여부와 관계 없이 실행"
   ]
  },
  {
   "cell_type": "code",
   "execution_count": null,
   "metadata": {},
   "outputs": [],
   "source": [
    "#try구문 예제\n",
    "\n",
    "import math\n",
    "\n",
    "try:\n",
    "    \n",
    "    number=float(input(\"숫자를 입력하세요:\"))\n",
    "    square_root=math.sqrt(number)\n",
    "\n",
    "except:\n",
    "    print(\"그거 말고 다른거\")\n",
    "\n",
    "else:\n",
    "    print(f\"{number}의 제곱근은 {square_root}입니다.\")\n",
    "    \n",
    "finally:\n",
    "    print(\"일단은 완료!\")\n",
    "        "
   ]
  },
  {
   "cell_type": "markdown",
   "metadata": {},
   "source": []
  },
  {
   "cell_type": "markdown",
   "metadata": {},
   "source": [
    "=>Try except 구문을 이용한 예외 처리 방법은 프로그램 실행 중 발생할 수 있는 오류를 감지해 적절히 처리하는 방법.\n",
    "  -이를 이용해 예외 상황이 발생해도 프로그램이 종료되지 않음.\n",
    "  -오류가 발생해도 사용자가 당황하지 않도록 도와줌."
   ]
  },
  {
   "cell_type": "markdown",
   "metadata": {},
   "source": [
    "**BUT! 예외 발생시 강제종료를 해야 하는 상황이라면 -> \"Raise 구문\" 이용!"
   ]
  },
  {
   "cell_type": "code",
   "execution_count": null,
   "metadata": {},
   "outputs": [],
   "source": [
    "if number < 0:\n",
    "    raise ValueError(\"음수의 제곱근은 허수입니다.\")"
   ]
  },
  {
   "cell_type": "markdown",
   "metadata": {},
   "source": [
    "위에 예외처리, 구문오류 예제의 일부분으로, raise를 사용한 종료방법이다.\n",
    "일종의 '공사중' 표지판 역할을 해준다. 여기는 아직 들어가면 안되니 이후 진행을 멈추는 역할을 한다. "
   ]
  }
 ],
 "metadata": {
  "kernelspec": {
   "display_name": "Python 3",
   "language": "python",
   "name": "python3"
  },
  "language_info": {
   "codemirror_mode": {
    "name": "ipython",
    "version": 3
   },
   "file_extension": ".py",
   "mimetype": "text/x-python",
   "name": "python",
   "nbconvert_exporter": "python",
   "pygments_lexer": "ipython3",
   "version": "3.12.7"
  }
 },
 "nbformat": 4,
 "nbformat_minor": 2
}
