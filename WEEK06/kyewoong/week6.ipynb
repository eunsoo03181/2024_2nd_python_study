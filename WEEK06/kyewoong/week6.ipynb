{
 "cells": [
  {
   "cell_type": "markdown",
   "metadata": {},
   "source": [
    "● 예외처리"
   ]
  },
  {
   "cell_type": "markdown",
   "metadata": {},
   "source": [
    "-구문 오류 : 괄호의 개수, 들여쓰기 등 프로그램 실행 전에 발생하는 오류"
   ]
  },
  {
   "cell_type": "code",
   "execution_count": null,
   "metadata": {},
   "outputs": [],
   "source": [
    "print(\"#프로그램이 시작되었습니다!\")\n",
    "print(\"닫는 따옴표가 없어서 구문 오류발생)"
   ]
  },
  {
   "cell_type": "markdown",
   "metadata": {},
   "source": [
    "위 코드를 실행시 SyntaxError 발생"
   ]
  },
  {
   "cell_type": "markdown",
   "metadata": {},
   "source": [
    "-예외(런타임 오류)"
   ]
  },
  {
   "cell_type": "code",
   "execution_count": null,
   "metadata": {},
   "outputs": [],
   "source": [
    "print(\"#프로그램이 시작되었습니다!\")\n",
    "list_a[1]"
   ]
  },
  {
   "cell_type": "markdown",
   "metadata": {},
   "source": [
    "위 코드 실행시 NameError 발생"
   ]
  },
  {
   "cell_type": "markdown",
   "metadata": {},
   "source": [
    "-> list_a를 정의하지 않아 문제 발생"
   ]
  },
  {
   "cell_type": "markdown",
   "metadata": {},
   "source": [
    "예외 처리란 발생하는 예외들을 해결하는 모든 것"
   ]
  },
  {
   "cell_type": "markdown",
   "metadata": {},
   "source": [
    "-조건문을 사용하여 예외 처리(기본 예외 처리)"
   ]
  },
  {
   "cell_type": "code",
   "execution_count": null,
   "metadata": {},
   "outputs": [],
   "source": [
    "user_input_a = input(\"정수 입력:\")\n",
    "#사용자가 숫자가 아닌 입력을 하였을 때 예외 발생\n",
    "if user_input_a.isdigit():     #isdigit 함수를 이용하여 입력이 숫자인 경우 if문 실행\n",
    "    number_input_a = int(user_input_a)\n",
    "    print(\"원의 반지름:\",number_input_a)\n",
    "    print(\"원의 둘레:\",2 * 3.14 * number_input_a)\n",
    "    print(\"원의 넓이:\", 3.14 * number_input_a **2)\n",
    "else:       #사용자가 숫자가 아닌 문자를 입력하였을 때(예외)\n",
    "    print(\"정수를 입력하시오.\")"
   ]
  },
  {
   "cell_type": "markdown",
   "metadata": {},
   "source": [
    "\n",
    "-try 구문을 사용하여 예외 처리\n",
    "\n",
    "-try except 구문 사용"
   ]
  },
  {
   "cell_type": "markdown",
   "metadata": {},
   "source": [
    "try: 예외가 발생할 가능성이 있는 코드\n",
    "\n",
    "except : 예외가 발생했을 때 실행할 코드"
   ]
  },
  {
   "cell_type": "code",
   "execution_count": null,
   "metadata": {},
   "outputs": [],
   "source": [
    "\n",
    "try:\n",
    "    number_input_a = int(input(\"정수 입력:\"))\n",
    "    print(\"원의 반지름:\",number_input_a)\n",
    "    print(\"원의 둘레:\",2 * 3.14 * number_input_a)\n",
    "    print(\"원의 넓이:\", 3.14 * number_input_a**2)\n",
    "except: #숫자 이외의 입력이 들어올 경우\n",
    "    print(\"정수를 입력하시오.\")"
   ]
  },
  {
   "cell_type": "markdown",
   "metadata": {},
   "source": [
    "-> 예외 발생 가능성이 있는 코드가 별로 중요하지 않은 코드일 경우 except 내부에 pass 키워드를 넣어 예외가 발생 시 프로그램이 강제로 종료 되는 것을 방지한다."
   ]
  },
  {
   "cell_type": "markdown",
   "metadata": {},
   "source": [
    "※try exept 구문 활용"
   ]
  },
  {
   "cell_type": "code",
   "execution_count": null,
   "metadata": {},
   "outputs": [],
   "source": [
    "list_input_a = [\"58\",\"94\",\"154\",\"세종대\",\"3.14\"]\n",
    "\n",
    "list_number = []\n",
    "for item in list_input_a:\n",
    "    try:   #item 중에서 int형인 58 94 154 에만 append 함수가 실행된다.\n",
    "        int(item)\n",
    "        list_number.append(item)\n",
    "    except: #item 중 int형이 아닌 경우 예외 발생\n",
    "        pass  #예외 발생시 그냥 넘어감(강제 종료 방지)\n",
    "print(\"{}내부의 정수(int)는\".format(list_input_a))\n",
    "print(\"{}입니다.\".format(list_number))"
   ]
  },
  {
   "cell_type": "markdown",
   "metadata": {},
   "source": [
    "※try except else 구문\n",
    "\n",
    "try: 예외가 발생할 가능성이 있는 코드\n",
    "\n",
    "except: 예외가 발생했을 때 실행할 코드\n",
    "\n",
    "else: 예외가 발생하지 않았을 때 실행할 코드\n",
    "\n",
    "->일반적으로 예외가 발생할 수 있는 코드만 try에 넣고 나머지는 else 구문으로 뺴서 사용"
   ]
  },
  {
   "cell_type": "code",
   "execution_count": 3,
   "metadata": {},
   "outputs": [
    {
     "name": "stdout",
     "output_type": "stream",
     "text": [
      "원의 반지름: 6\n",
      "원의 둘레: 37.68\n",
      "원의 넓이: 113.04\n"
     ]
    }
   ],
   "source": [
    "try:\n",
    "    number_input_a = int(input(\"정수 입력:\"))\n",
    "except: #예외 발생시(문자가 입력되었을 때) 실행되는 부분\n",
    "    print(\"정수를 입력하시오.\")\n",
    "else: #정수를 입력하였을 때 실행되는 부분\n",
    "    print(\"원의 반지름:\",number_input_a)\n",
    "    print(\"원의 둘레:\",2 * 3.14 * number_input_a)\n",
    "    print(\"원의 넓이:\",3.14 * number_input_a**2)"
   ]
  },
  {
   "cell_type": "markdown",
   "metadata": {},
   "source": [
    "※finally 구문\n",
    "\n",
    "-예외가 발생하던 말던 finally 내부의 코드는 무조건 실행"
   ]
  },
  {
   "cell_type": "markdown",
   "metadata": {},
   "source": [
    "※try , except , else , finally 구문의 조합\n",
    "\n",
    "try + except\n",
    "\n",
    "try + except + else\n",
    "\n",
    "try + except + finally\n",
    "\n",
    "try + except + else + finally\n",
    "\n",
    "try + finally"
   ]
  },
  {
   "cell_type": "markdown",
   "metadata": {},
   "source": [
    "위 조합 이외의 조합으로 사용 시 구문 오류(SyntaxError)가 발생한다."
   ]
  },
  {
   "cell_type": "code",
   "execution_count": null,
   "metadata": {},
   "outputs": [],
   "source": [
    "numbers = [52,273,32,103,90,10,275]\n",
    "\n",
    "print(\"요소 내부에 없는 값 찾기\")\n",
    "try:\n",
    "    num = int(input(\"정수를 입력하시오:\"))\n",
    "except:\n",
    "    print(\"리스트에 없는 값입니다.\")\n",
    "else:\n",
    "    print(\"{}는 {} 위치에 있습니다.\".format(num,numbers.index(num)))\n",
    "finally:\n",
    "    print(\"프로그램이 종료되었습니다.\")"
   ]
  },
  {
   "cell_type": "markdown",
   "metadata": {},
   "source": [
    "●예외 객체"
   ]
  },
  {
   "cell_type": "code",
   "execution_count": null,
   "metadata": {},
   "outputs": [],
   "source": [
    "try:\n",
    "    number_input_a = int(input(\"정수 입력:\"))\n",
    "    print(\"원의 반지름:\",number_input_a)\n",
    "    print(\"원의 둘레:\",2 * 3.14 * number_input_a)\n",
    "    print(\"원의 넓이:\",3.14 * number_input_a**2)\n",
    "except Exception as exception:\n",
    "    print(\"type(exception):\",type(exception))  #exception의 자료형은 ValueError\n",
    "    print(\"exception:\",exception)   #exception의 내용은 invalid literal for int() with base 10: 'r'"
   ]
  },
  {
   "cell_type": "markdown",
   "metadata": {},
   "source": [
    "※예외 구분하기"
   ]
  },
  {
   "cell_type": "markdown",
   "metadata": {},
   "source": [
    "->except 구문 뒤에 예외의 종류를 입력해서 예외를 구분하는 것이 가능하다"
   ]
  },
  {
   "cell_type": "markdown",
   "metadata": {},
   "source": [
    "try: 예외가 발생할 가능성이 있는 구문\n",
    "\n",
    "except 예외의 종류 1: 예외 1이 발생했을 때 실행할 구문\n",
    "\n",
    "except 예외의 종류 2: 예외 2가 발생했을 때 실행할 구문\n",
    "\n",
    "except 예외의 종류 3: 예외 3이 발생했을 때 실행할 구문"
   ]
  },
  {
   "cell_type": "code",
   "execution_count": null,
   "metadata": {},
   "outputs": [],
   "source": [
    "list_number = [52,103,18,75,100]\n",
    "\n",
    "try:\n",
    "    number_input = int(input(\"정수 입력:\"))\n",
    "    print(\"{}번째 요소:{}\".format(number_input,list_number[number_input]))\n",
    "except ValueError:   #except ValueError as exception: 도 가능!\n",
    "    print(\"정수를 입력하시오.\")\n",
    "except IndexError:   #except IndexError as exception: 도 가능!\n",
    "    print(\"리스트의 인덱스를 벗어낫습니다.\")"
   ]
  },
  {
   "cell_type": "markdown",
   "metadata": {},
   "source": [
    "※모든 예외 확인"
   ]
  },
  {
   "cell_type": "code",
   "execution_count": 4,
   "metadata": {},
   "outputs": [
    {
     "name": "stdout",
     "output_type": "stream",
     "text": [
      "리스트의 인덱스를 벗어낫습니다.\n"
     ]
    }
   ],
   "source": [
    "list_number = [52,103,18,75,100]\n",
    "\n",
    "try:\n",
    "    number_input = int(input(\"정수 입력:\"))\n",
    "    print(\"{}번째 요소:{}\".format(number_input,list_number[number_input]))\n",
    "    예외.발생()\n",
    "except ValueError as exception: \n",
    "    print(\"정수를 입력하시오.\")\n",
    "except IndexError as exception: \n",
    "    print(\"리스트의 인덱스를 벗어낫습니다.\")\n",
    "except Exception as exception:  #ValueError,IndexError가 아닌 예외 발생 시 실행\n",
    "    print(\"또 다른 예외가 발생했습니다.\")  #정의되지 않은 함수 예외.발생() 으로 인해 실행\n",
    "    print(type(exception),exception)"
   ]
  },
  {
   "cell_type": "markdown",
   "metadata": {},
   "source": [
    "※raise 구문\n",
    "\n",
    "-raise 구문은 예외를 강제로 발생시키는 기능을 한다."
   ]
  }
 ],
 "metadata": {
  "kernelspec": {
   "display_name": "Python 3",
   "language": "python",
   "name": "python3"
  },
  "language_info": {
   "codemirror_mode": {
    "name": "ipython",
    "version": 3
   },
   "file_extension": ".py",
   "mimetype": "text/x-python",
   "name": "python",
   "nbconvert_exporter": "python",
   "pygments_lexer": "ipython3",
   "version": "3.12.7"
  }
 },
 "nbformat": 4,
 "nbformat_minor": 2
}
