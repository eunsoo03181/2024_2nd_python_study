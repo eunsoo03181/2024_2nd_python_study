{
 "cells": [
  {
   "cell_type": "markdown",
   "metadata": {},
   "source": [
    "구문 오류\n",
    "프로그램 실행 전에 발생하는 오류\n",
    "조건문과 반복문의 들여쓰기, 괄호의 개수 문제 등으로 발생\n",
    "해당 오류는 프로그램이 실행조차 되지 않기 때문에 예외 처리 방법으로 해결을 할 수 없음\n",
    "문법적으로 문제가 발생한 부분을 직접 찾아서 수정해야함\n"
   ]
  },
  {
   "cell_type": "code",
   "execution_count": 3,
   "metadata": {},
   "outputs": [
    {
     "ename": "SyntaxError",
     "evalue": "unterminated string literal (detected at line 1) (3881393015.py, line 1)",
     "output_type": "error",
     "traceback": [
      "\u001b[1;36m  Cell \u001b[1;32mIn[3], line 1\u001b[1;36m\u001b[0m\n\u001b[1;33m    print(\"#예외를 강제로 발생시켜 볼게요!)\u001b[0m\n\u001b[1;37m          ^\u001b[0m\n\u001b[1;31mSyntaxError\u001b[0m\u001b[1;31m:\u001b[0m unterminated string literal (detected at line 1)\n"
     ]
    }
   ],
   "source": [
    "print(\"#예외를 강제로 발생시켜 볼게요!)"
   ]
  },
  {
   "cell_type": "markdown",
   "metadata": {},
   "source": [
    "런타임 오류\n",
    "프로그램 실행 중에 발생하는 오류\n",
    "예외 처리를 통해 문제를 해결할 수 있음\n"
   ]
  },
  {
   "cell_type": "code",
   "execution_count": 4,
   "metadata": {},
   "outputs": [
    {
     "name": "stdout",
     "output_type": "stream",
     "text": [
      "#프로그램이 시작되었습니다!\n"
     ]
    },
    {
     "ename": "NameError",
     "evalue": "name 'list_a' is not defined",
     "output_type": "error",
     "traceback": [
      "\u001b[1;31m---------------------------------------------------------------------------\u001b[0m",
      "\u001b[1;31mNameError\u001b[0m                                 Traceback (most recent call last)",
      "Cell \u001b[1;32mIn[4], line 2\u001b[0m\n\u001b[0;32m      1\u001b[0m \u001b[38;5;28mprint\u001b[39m(\u001b[38;5;124m\"\u001b[39m\u001b[38;5;124m#프로그램이 시작되었습니다!\u001b[39m\u001b[38;5;124m\"\u001b[39m)\n\u001b[1;32m----> 2\u001b[0m \u001b[43mlist_a\u001b[49m[\u001b[38;5;241m1\u001b[39m]\n",
      "\u001b[1;31mNameError\u001b[0m: name 'list_a' is not defined"
     ]
    }
   ],
   "source": [
    "print(\"#프로그램이 시작되었습니다!\")\n",
    "list_a[1]"
   ]
  },
  {
   "cell_type": "markdown",
   "metadata": {},
   "source": [
    "예외 처리-try except구문\n",
    "try 문 안에는 예외가 발생할 가능성이 있는 모든 코드 삽입\n",
    "except 문 안에는 예외가 발생했을 때 실행할 모든 코드 삽입\n",
    "except 문 안에 pass 키워드를 넣으면 아무것도 출력하지 않고 강제 종료도 막을 수 있음"
   ]
  },
  {
   "cell_type": "code",
   "execution_count": null,
   "metadata": {},
   "outputs": [],
   "source": [
    "try:\n",
    "    number_input_a=int(input(\"정수 입력>\"))\n",
    "    print(\"원의 반지름:\", number_input_a)\n",
    "    print(\"원의 둘레:\", 2* 3.14 * number_input_a)\n",
    "    print(\"원의 넓이:\", 3.14* number_input_a* number_input_a)\n",
    "except:\n",
    "    print(\"무언가 잘못되었습니다.\")"
   ]
  },
  {
   "cell_type": "markdown",
   "metadata": {},
   "source": [
    "Try except else 구문\n",
    "try 문 안에는 예외가 발생할 가능성이 있는 모든 코드 삽입\n",
    "except 문 안에는 예외가 발생했을 때 실행할 모든 코드 삽입\n",
    "finally 문 안에는 예외 발생 여부와 상관없이 무조건 실행할 코드 삽입"
   ]
  },
  {
   "cell_type": "markdown",
   "metadata": {},
   "source": [
    "Try except else finally 구문\n",
    "try 문 안에는 예외가 발생할 가능성이 있는 모든 코드 삽입\n",
    "except 문 안에는 예외가 발생했을 때 실행할 모든 코드 삽입\n",
    "else 문 안에는 예외가 발생하지 않았을 때 실행할 코드 삽입\n",
    "finally 문 안에는 예외 발생 여부와 상관없이 무조건 실행할 코드 삽입\n"
   ]
  },
  {
   "cell_type": "code",
   "execution_count": null,
   "metadata": {},
   "outputs": [],
   "source": [
    "try:\n",
    "    number_input_a=int(input(\"정수 입력>\"))\n",
    "    print(\"원의 반지름:\", number_input_a)\n",
    "    print(\"원의 둘레:\", 2* 3.14 * number_input_a)\n",
    "    print(\"원의 넓이:\", 3.14* number_input_a* number_input_a)\n",
    "except:\n",
    "    print(\"정수를 입력하지 않았습니다.\")\n",
    "else:\n",
    "    print(\"예외가 발생하지 않았습니다.\")\n",
    "finally:\n",
    "    print(\"일단 프로그램이 어떻게든 끝났습니다다.\")"
   ]
  },
  {
   "cell_type": "markdown",
   "metadata": {},
   "source": [
    "예외 객체\n",
    "try:\n",
    "    예외가 발생할 가능성이 있는 구문\n",
    "except 예외의 종류 as 예외 객체를 활용할 변수 이름:\n",
    "    예외가 발생했을 때 실행할 구문\n",
    "\n",
    "-예외 객체는 에러의 종류와 에러의 원인에 대한 정보를 가지고 있습니다. \n",
    "-이 객체를 활용해 프로그램이 어떤 문제로 인해 정상적으로 실행되지 않았는지 알 수 있습니다.\n"
   ]
  },
  {
   "cell_type": "code",
   "execution_count": null,
   "metadata": {},
   "outputs": [],
   "source": [
    "try:\n",
    "    number_input_a=int(input(\"정수 입력>\"))\n",
    "\n",
    "    print(\"원의 반지름:\", number_input_a)\n",
    "    print(\"원의 둘레:\", 2* 3.14 * number_input_a)\n",
    "    print(\"원의 넓이이:\", 3.14* number_input_a* number_input_a)\n",
    "except Exception as exception:\n",
    "    print(\"type(exception):\",type(exception))\n",
    "    print(\"exception:\",exception)"
   ]
  },
  {
   "cell_type": "markdown",
   "metadata": {},
   "source": [
    "예외 클래스(표준 예외 클래스)\n",
    "파이썬에는 여러 예외 클래스가 있습니다. 대표적으로 ValueError, TypeError, IndexError등이 있습니다.\n",
    "예외가 발생하면 이 클래스의 객체가 생성되어 해당 예외 상황을 표현합니다\n"
   ]
  },
  {
   "cell_type": "markdown",
   "metadata": {},
   "source": [
    "예외 클래스(사용자 정의 예외 클래스)\n",
    "필요에 따라 사용자 정의 예외 클래스를 만들 수 있습니다.\n",
    "일반적으로 Exception 클래스를 상속하여 특정 상황에서 발생하는 고유한 예외를 정의합니다.\n"
   ]
  },
  {
   "cell_type": "markdown",
   "metadata": {},
   "source": [
    "raise 구문\n",
    "파이썬에서 raise 키워드는 예외를 발생시키는 역할을 합니다. 특정 조건에서 의도적으로 예외를 발생시켜, 프로그램 흐름을 중단하거나 오류를 처리할 수 있도록 하는 데 사용\n",
    "raise 생성\n",
    "  raise 예외 객체"
   ]
  },
  {
   "cell_type": "code",
   "execution_count": null,
   "metadata": {},
   "outputs": [],
   "source": []
  },
  {
   "cell_type": "code",
   "execution_count": null,
   "metadata": {},
   "outputs": [],
   "source": []
  },
  {
   "cell_type": "code",
   "execution_count": null,
   "metadata": {},
   "outputs": [],
   "source": []
  },
  {
   "cell_type": "markdown",
   "metadata": {},
   "source": [
    "추가 스터디 내용\n"
   ]
  },
  {
   "cell_type": "code",
   "execution_count": 1,
   "metadata": {},
   "outputs": [],
   "source": [
    "class NegativeNumberError(Exception):\n",
    "    \"\"\"음수가 입력될 때 발생하는 예외\"\"\"\n",
    "    def __init__(self, message=\"음수는 허용되지 않습니다.\"):\n",
    "        self.message = message\n",
    "        super().__init__(self.message) #부모 클래스의 __init__메서드를 호출하여, \n",
    "                #Excpption 클래스가 예외 메시지로 사용할 수 있도록 self.message를 전달함 \n"
   ]
  },
  {
   "cell_type": "code",
   "execution_count": null,
   "metadata": {},
   "outputs": [],
   "source": []
  }
 ],
 "metadata": {
  "kernelspec": {
   "display_name": "my_env",
   "language": "python",
   "name": "python3"
  },
  "language_info": {
   "codemirror_mode": {
    "name": "ipython",
    "version": 3
   },
   "file_extension": ".py",
   "mimetype": "text/x-python",
   "name": "python",
   "nbconvert_exporter": "python",
   "pygments_lexer": "ipython3",
   "version": "3.11.9"
  }
 },
 "nbformat": 4,
 "nbformat_minor": 2
}
