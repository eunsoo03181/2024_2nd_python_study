{
 "cells": [
  {
   "cell_type": "markdown",
   "metadata": {},
   "source": [
    "### 1. 파이썬의 오류\n",
    "1. 구문 오류 : 프로그램 실행 전 발생하는 오류\n",
    "2. 런타임 오류(예외) : 프로그램 실행 중 발생하는 오류"
   ]
  },
  {
   "cell_type": "code",
   "execution_count": null,
   "metadata": {},
   "outputs": [
    {
     "ename": "SyntaxError",
     "evalue": "EOL while scanning string literal (1509619904.py, line 1)",
     "output_type": "error",
     "traceback": [
      "\u001b[1;36m  Cell \u001b[1;32mIn[1], line 1\u001b[1;36m\u001b[0m\n\u001b[1;33m    print(\"AA')\u001b[0m\n\u001b[1;37m               ^\u001b[0m\n\u001b[1;31mSyntaxError\u001b[0m\u001b[1;31m:\u001b[0m EOL while scanning string literal\n"
     ]
    }
   ],
   "source": [
    "print(\"AA')     # SyntaxError : 프로그램이 실행조차 되지 않는 오류 (구문오류)"
   ]
  },
  {
   "cell_type": "code",
   "execution_count": null,
   "metadata": {},
   "outputs": [
    {
     "name": "stdout",
     "output_type": "stream",
     "text": [
      "프로그램 실행!\n"
     ]
    },
    {
     "ename": "NameError",
     "evalue": "name 'list_A' is not defined",
     "output_type": "error",
     "traceback": [
      "\u001b[1;31m---------------------------------------------------------------------------\u001b[0m",
      "\u001b[1;31mNameError\u001b[0m                                 Traceback (most recent call last)",
      "Cell \u001b[1;32mIn[4], line 2\u001b[0m\n\u001b[0;32m      1\u001b[0m \u001b[38;5;28mprint\u001b[39m(\u001b[38;5;124m\"\u001b[39m\u001b[38;5;124m프로그램 실행!\u001b[39m\u001b[38;5;124m\"\u001b[39m)\n\u001b[1;32m----> 2\u001b[0m \u001b[38;5;28mprint\u001b[39m(\u001b[43mlist_A\u001b[49m[\u001b[38;5;241m1\u001b[39m])    \n",
      "\u001b[1;31mNameError\u001b[0m: name 'list_A' is not defined"
     ]
    }
   ],
   "source": [
    "print(\"프로그램 실행!\")  # 여기까진 실행됨\n",
    "print(list_A[1])        # 런타임 오류"
   ]
  },
  {
   "cell_type": "markdown",
   "metadata": {},
   "source": [
    "### 2-1. 기본 예외 처리\n",
    "예외를 해결하는 것을 예외 처리라함. \n",
    "1. 조건문을 사용 (기본 예외 처리)\n",
    "2. try 구문을 사용 (if문보다 속도가 약간 느림)"
   ]
  },
  {
   "cell_type": "code",
   "execution_count": null,
   "metadata": {},
   "outputs": [
    {
     "name": "stdout",
     "output_type": "stream",
     "text": [
      "정수가 아님\n"
     ]
    }
   ],
   "source": [
    "# 1번 조건문 사용해 예외 처리\n",
    "num = input(\"정수 입력\")\n",
    "if num.isdigit():           # num = 5 인 경우\n",
    "    print(num)\n",
    "else:\n",
    "    print(\"정수가 아님\")    # num = 2.3 인 경우"
   ]
  },
  {
   "cell_type": "code",
   "execution_count": null,
   "metadata": {},
   "outputs": [],
   "source": [
    "# 2번 try except 구문 사용해 예외 처리\n",
    "try:                        # 안에 있는 코드에서 예외 발생 시 except 실행\n",
    "    num = int(input())\n",
    "    print(num)\n",
    "except:                     # 예외 발생 시 실행\n",
    "    # print(\"문제 발생!\")\n",
    "    pass"
   ]
  },
  {
   "cell_type": "code",
   "execution_count": 12,
   "metadata": {},
   "outputs": [
    {
     "name": "stdout",
     "output_type": "stream",
     "text": [
      "문제 발생!\n",
      "무조건 실행!\n"
     ]
    }
   ],
   "source": [
    "try:                        \n",
    "    num = int(input())      # 예외 발생 가능 코드\n",
    "except:\n",
    "    print(\"문제 발생!\")     # 예외 발생 시 실행 \n",
    "else:                    \n",
    "    print(num)              # 예외 미 발생 시 실행\n",
    "finally:\n",
    "    print(\"무조건 실행!\")      # 예외 관계없이 무조건 실행"
   ]
  },
  {
   "cell_type": "markdown",
   "metadata": {},
   "source": [
    "+ try 구문은 단독 실행 불가 \n",
    "+ except 구문 또는 finally 구문과 함게 사용해야 됨.\n",
    "+ else 구문은 반드시 except 구문 뒤에 사용"
   ]
  },
  {
   "cell_type": "code",
   "execution_count": null,
   "metadata": {},
   "outputs": [],
   "source": [
    "# finally 구문 이용 (사용한 파일은 무조건 닫아야 하기 떄문)\n",
    "def write_text(filename, text):\n",
    "    try:\n",
    "        file = open(filename, \"w\")\n",
    "        return\n",
    "        file.write(text)    # 실행 X\n",
    "    except Exception as e:\n",
    "        print(e)\n",
    "    finally:\n",
    "        file.close()    \n",
    "write_text(\"test.txt\",\"안녕하세요!\")"
   ]
  },
  {
   "cell_type": "code",
   "execution_count": null,
   "metadata": {},
   "outputs": [
    {
     "name": "stdout",
     "output_type": "stream",
     "text": [
      "try 실행\n",
      "finally 실행\n",
      "프로그램 종료\n"
     ]
    }
   ],
   "source": [
    "# break 와 finally 관계\n",
    "while True:\n",
    "    try:\n",
    "        print(\"try 실행\")\n",
    "        break\n",
    "    except:\n",
    "        print(\"except 실행\")\n",
    "    finally:\n",
    "        print(\"finally 실행\")       # break가 실행되어도 finally 구문 무조건 실행\n",
    "    print(\"반복문의 맨 마지막 줄\")\n",
    "print(\"프로그램 종료\")"
   ]
  },
  {
   "cell_type": "markdown",
   "metadata": {},
   "source": [
    "### 2-2. 예외 객체 :\n",
    "예외가 발생하면 예외에 관련된 정보 생성되어 예외 객체에 저장<br>\n",
    "try:<br>\n",
    "&emsp;&emsp;   (예외가 발생할 가능성 있는 구문)<br>\n",
    "except (예외의 종류) as (예외 객체를 활용할 변수): <br>\n",
    "&emsp;&emsp;   (예외가 발생했을 때 실행할 구문)\n",
    "\n",
    "* Exception을 이용하면 모든 종류의 예외 처리 가능"
   ]
  },
  {
   "cell_type": "code",
   "execution_count": 27,
   "metadata": {},
   "outputs": [
    {
     "name": "stdout",
     "output_type": "stream",
     "text": [
      "<class 'ValueError'>\n",
      "invalid literal for int() with base 10: 'x'\n"
     ]
    }
   ],
   "source": [
    "try:\n",
    "    num = int(input())\n",
    "except Exception as e:\n",
    "    print(type(e))      # 예외 객체의 자료형\n",
    "    print(e)            # 예외 객체의 내용\n"
   ]
  },
  {
   "cell_type": "markdown",
   "metadata": {},
   "source": [
    "### 2-3. 예외 구분\n",
    "파이썬은 except 뒤에 예외의 종류를 입력하여 예외 구분 가능"
   ]
  },
  {
   "cell_type": "code",
   "execution_count": 26,
   "metadata": {},
   "outputs": [
    {
     "name": "stdout",
     "output_type": "stream",
     "text": [
      "정수를 입력해주세요\n",
      "invalid literal for int() with base 10: 'xx'\n"
     ]
    }
   ],
   "source": [
    "# Exception 을 맨 뒤에 배치하여 else문 처럼 사용 가능\n",
    "list_A = [2,3,5]\n",
    "try:\n",
    "    num = int(input())\n",
    "    print(list_A[num])\n",
    "    A.B()\n",
    "except ValueError as e:                  # 자료형 에러\n",
    "    print(\"정수를 입력해주세요\")\n",
    "    print(e)\n",
    "except IndexError as e:                  # 인덱스 범위 에러\n",
    "    print(\"리스트의 인덱스를 벗어났습니다.\")\n",
    "    print(e)\n",
    "except Exception as e:\n",
    "    print(\"파악되지 않은 에러 발생\")"
   ]
  },
  {
   "cell_type": "markdown",
   "metadata": {},
   "source": [
    "### 2-4. raise : 강제 예외 발생\n",
    "구현되지 않은 부분을 까먹지 않기 위해 강제로 예외 발생시킴. <br>\n",
    "라이브러리의 경우, 잘못된 사용인지 조건문으로 확인한 후 사용자에게 경고 역할\n",
    "raise (예외 객체)"
   ]
  },
  {
   "cell_type": "code",
   "execution_count": null,
   "metadata": {},
   "outputs": [],
   "source": [
    "if preprocess == 'average':\n",
    "    fingerprint_input = tf.nn.pool(\n",
    "        input=tf.expand_dims(spectrogram, -1),\n",
    "        window_shape=[1, model_settings['average_window_width']],\n",
    "        strides=[1, model_settings['average_window_width']],\n",
    "        pooling_type='AVG',\n",
    "        padding='SAME')\n",
    "elif preprocess == 'mfcc':\n",
    "    fingerprint_input = audio_ops.mfcc(\n",
    "        spectrogram,\n",
    "        sample_rate,\n",
    "        dct_coefficient_count=model_settings['fingerprint_width'])\n",
    "elif preprocess == 'micro':\n",
    "    if not frontend_op:\n",
    "      raise Exception(\n",
    "          'Micro frontend op is currently not available when running TensorFlow'\n",
    "          ' directly from Python, you need to build and run through Bazel, for'\n",
    "          ' example'\n",
    "          ' `bazel run tensorflow/examples/speech_commands:freeze_graph`')\n",
    "    \n",
    "# 마이크로를 지원하지 않아 직접 바젤을 만들고 실행해야 됨.\n",
    "\n",
    "else:\n",
    "    raise Exception('Unknown preprocess mode \"%s\" (should be \"mfcc\",'\n",
    "                    ' \"average\", or \"micro\")' % (preprocess))\n",
    "\n",
    "# preprocess 모드를 확인할 수 없음\n",
    "\n",
    "if FLAGS.save_format == 'graph_def':\n",
    "    save_graph_def(FLAGS.output_file, frozen_graph_def)\n",
    "elif FLAGS.save_format == 'saved_model':\n",
    "    save_saved_model(FLAGS.output_file, sess, input_tensor, output_tensor)\n",
    "else:\n",
    "    raise Exception('Unknown save format \"%s\" (should be \"graph_def\" or'\n",
    "                    ' \"saved_model\")' % (FLAGS.save_format))\n",
    "\n",
    "# 저장하는 포맷이 둘 다 아닌 경우 \n",
    "\n",
    "def label_wav(wav, labels, graph, input_name, output_name, how_many_labels):\n",
    "  \"\"\"Loads the model and labels, and runs the inference to print predictions.\"\"\"\n",
    "  if not wav or not tf.io.gfile.exists(wav):\n",
    "    raise ValueError('Audio file does not exist at {0}'.format(wav))\n",
    "  \n",
    "# 오디오 파일이 존재 X"
   ]
  },
  {
   "cell_type": "code",
   "execution_count": 35,
   "metadata": {},
   "outputs": [
    {
     "name": "stdout",
     "output_type": "stream",
     "text": [
      "메시지 : 아래는 구현되지 않음\n",
      "에러 값 :  2507\n"
     ]
    }
   ],
   "source": [
    "# 추가 스터디\n",
    "class CustomException(Exception):       \n",
    "    def __init__(self,message,value):\n",
    "        Exception.__init__(self)\n",
    "        self.message = message\n",
    "        self.value = value\n",
    "    def print(self):\n",
    "        print(\"메시지 :\",self.message)\n",
    "        print(\"에러 값 : \",self.value)\n",
    "\n",
    "class CustomException2(ValueError):         # value 에러가 발생 시 \n",
    "    def __init__(self,message):\n",
    "        ValueError.__init__(self)\n",
    "        self.message = message\n",
    "    def print(self):\n",
    "        print(self.message)\n",
    "\n",
    "list_A = [2,3,5]\n",
    "try: \n",
    "    num = input()\n",
    "    if(num.isdigit()):\n",
    "        num = int(num)\n",
    "    else:\n",
    "        raise CustomException2(\"정수를 입력해주세요\")\n",
    "    raise CustomException(\"아래는 구현되지 않음\", 2507)\n",
    "    ''' \n",
    "        print(list_A[num])\n",
    "    '''\n",
    "except CustomException2 as e:   # 정수 입력 X\n",
    "    e.print()\n",
    "except CustomException as e:    # 강제 에러 발생\n",
    "    e.print()"
   ]
  },
  {
   "cell_type": "code",
   "execution_count": null,
   "metadata": {},
   "outputs": [],
   "source": []
  }
 ],
 "metadata": {
  "kernelspec": {
   "display_name": "Python 3",
   "language": "python",
   "name": "python3"
  },
  "language_info": {
   "codemirror_mode": {
    "name": "ipython",
    "version": 3
   },
   "file_extension": ".py",
   "mimetype": "text/x-python",
   "name": "python",
   "nbconvert_exporter": "python",
   "pygments_lexer": "ipython3",
   "version": "3.9.13"
  }
 },
 "nbformat": 4,
 "nbformat_minor": 2
}
