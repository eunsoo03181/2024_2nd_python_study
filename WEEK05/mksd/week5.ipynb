{
 "cells": [
  {
   "cell_type": "markdown",
   "metadata": {},
   "source": [
    "### 1. 객체 지향 프로그래밍 :\n",
    "클래스를 기반으로 객체를 만들고, 만들어진 객체를 우선으로 생각해서 프로그래밍하는 것.\n",
    "\n",
    "모든 데이터를 객체로 취급\n",
    "클래스를 통해 객체를 추상화하여 만듦 \n",
    "\n",
    "특징\n",
    "1. 추상화 : 필수적인 요소, 공통 부분으로만 객체를 구성. \n",
    "+ 객체의 복잡한 내부 구현을 감추고, 핵심적인 기능에 집중 가능.\n",
    "2. 캡슐화 : 서로 연관있는 속성과 기능들을 하나의 캡슐로 만들어 데이터를 외부로부터 보호. (private: 사용)\n",
    "+ 데이터 보호 : 외부로부터 클래스에 정의된 속성과 기능들 보호\n",
    "+ 데이터 은닉 : 내부의 동작을 감추고, 외부에는 필요한 부분만 노출\n",
    "3. 상속성 : 기존 클래스를 재활용하여 새로운 클래스 작성. 여러 개의 하위 클래스들이 상위 클래스의 속성과 기능들 사용 가능.\n",
    "+ 상속을 통해 코드 재사용이 쉽고, 기존 코드 확장, 수정이 용이\n",
    "4. 다형성 : 객체의 속성이나 기능이 상황에 따라 여러 형태를 가질 수 있음. (메서드 오버라이딩, 메서드 오버로딩) \n",
    "+ 상위 클래스의 참조변수로 하위 클래스의 객체 참조 가능. (이동수단(상위클래스 변수) -> 오토바이 or 기차 or 버스(하위 클래스들의 변수))\n"
   ]
  },
  {
   "cell_type": "markdown",
   "metadata": {},
   "source": [
    "### 1-1. 객체 : \n",
    "객체 지향 프로그래밍에선 모든 데이터를 객체로 취급. <br>\n",
    "여러가지 속성을 가질 수 있는 대상.\n",
    "\n",
    "클래스를 기반으로 추상적으로 객체를 표현\n",
    "(핵심적인 개념, 기능만 구성한 것)\n"
   ]
  },
  {
   "cell_type": "markdown",
   "metadata": {},
   "source": [
    "### 1-2. 클래스 : \n",
    "객체를 만들어 내기 위한 틀.\n",
    "추상적으로 선언\n",
    "붕어빵틀 -> 클래스, 붕어빵 -> 객체(인스턴스)\n",
    "\n",
    "클래스에 포함되는 변수 = 속성\n",
    "클래스에 포함되는 함수 = 메소드\n",
    "\n",
    "객체는 클래스의 생성자를 통해 생성되고 파괴자를 통해 삭제된다. (따로 선언하지 않으면 기본 설정이 적용된다.)"
   ]
  },
  {
   "cell_type": "markdown",
   "metadata": {},
   "source": [
    "### 1-3. 인스턴스 : \n",
    "클래스를 기반으로 만들어진 객체.\n",
    "클래스에서 여러 개의 인스턴스 생성 가능\n",
    "\n",
    "<인스턴스_이름> = <클래스_이름>() : 클래스 생성자를 통해 인스턴스 생성\n",
    "-> 인스턴스 X는 클래스 A의 인스턴스이다. + X는 객체이다."
   ]
  },
  {
   "cell_type": "code",
   "execution_count": null,
   "metadata": {},
   "outputs": [],
   "source": [
    "# isinstance(A,B) : 객체 A가 클래스 B를 기반으로 만들었는지 확인\n",
    "class Student2:\n",
    "    def __init__(self):\n",
    "        pass\n",
    "student2 = Student2()\n",
    "print(isinstance(student2,Student2))        # 객체를 생성한 클래스 확인\n",
    "print(type(student2) == Student2)"
   ]
  },
  {
   "cell_type": "code",
   "execution_count": null,
   "metadata": {},
   "outputs": [],
   "source": [
    "class Student:\n",
    "    def __init__(self, name, korean, math): # 생성자 (self = 객체 본인)\n",
    "        self.name = name\n",
    "        self.korean = korean\n",
    "        self.math = math\n",
    "        print(\"생성자 호출\",self.name,\"생성 완료!\")\n",
    "    def __del__(self):  # 파괴자\n",
    "        print(\"{} - 파괴자 호출 완료\".format(self.name))\n",
    "    def print(self):    # 클래스 메소드 정의\n",
    "        print(\"{}의 국어점수는{}이고 수학점수는{}이다.\".format(self.name,self.korean,self.math))\n",
    "    def __str__(self):  # str(객체)를 통해서 호출 가능\n",
    "        return \"{}\\t{}\\t{}\".format(self.name, self.korean, self.math)\n",
    "    \n",
    "students = [\n",
    "    Student(\"윤일성\",81,91),\n",
    "    Student(\"윤이성\",82,92),\n",
    "    Student(\"윤삼성\",83,93),\n",
    "    Student(\"윤사성\",84,94)\n",
    "]\n",
    "for student in students:\n",
    "    Student.print(student)  # 클래스의 함수\n",
    "for student in students:\n",
    "    print(str(student))    "
   ]
  },
  {
   "cell_type": "markdown",
   "metadata": {},
   "source": [
    "### 2-1. 파이썬 클래스의 특수 메소드 (C++의 연산자 오버라이딩과 같음)\n",
    "기본 연산자나 함수를 오버라이딩해 클래스의 자료형에서도 실행가능하게 만들어줌.<br>\n",
    "str : str() <br>\n",
    "eq : == <br>\n",
    "ne : != <br>\n",
    "gt : > <br>\n",
    "ge : >= <br>\n",
    "lt : < <br>\n",
    "le : <= <br>"
   ]
  },
  {
   "cell_type": "markdown",
   "metadata": {},
   "source": [
    "### 2-2. 클래스의 변수, 함수 호출\n",
    "<클래스_이름>.<변수>로 접근 가능 <br>\n",
    "<클래스_이름>.<함수>로 호출 가능"
   ]
  },
  {
   "cell_type": "markdown",
   "metadata": {},
   "source": [
    "### 2-3. 가비지 컬렉터\n",
    "프로그램에서 데이터를 생성해 메모리를 올리는데, 메모리 공간이 부족하면 하드디스크에 데이터를 올리기 시작함. <br>\n",
    "이를 스왑이라고 부르고, 처리속도가 매우 느림. <br>\n",
    "이같은 일을 방지하기 위해 파이썬에서는 '가비지 컬렉터'가 더 이상 사용하지 않는 데이터를 메모리에서 삭제한다."
   ]
  },
  {
   "cell_type": "code",
   "execution_count": null,
   "metadata": {},
   "outputs": [],
   "source": [
    "class Test:\n",
    "    def __init__(self, name):\n",
    "        self.name = name\n",
    "        print(self.name,\"생성 완료\")\n",
    "    def __del__(self):\n",
    "        print(self.name, \"파괴 완료\")\n",
    "Test(\"A\")\n",
    "Test(\"B\")\n",
    "Test(\"C\")      \n",
    "\n",
    "a = Test(\"1\")\n",
    "b = Test(\"2\")\n",
    "c = Test(\"3\")  "
   ]
  },
  {
   "cell_type": "code",
   "execution_count": null,
   "metadata": {},
   "outputs": [],
   "source": [
    "import math\n",
    "\n",
    "class Circle:\n",
    "    def __init__(self, radius):\n",
    "        self.__radius = radius      # __(변수) : 외부에서 접근 불가\n",
    "    @property                       # 데코레이터로 게터 선언     or 함수로 우회해야 됨\n",
    "    def radius(self):           \n",
    "        return self.__radius\n",
    "    @radius.setter                  # 세터 선언     or 함수로 우회해야 됨\n",
    "    def radius(self, value):\n",
    "        if(value <= 0):\n",
    "            raise TypeError(\"길이는 양수여야 함.\")  # 에러발생시키기\n",
    "        self.__radius = value\n",
    "    def get_radius(self):\n",
    "        return self.__radius\n",
    "    def get_area(self):\n",
    "        return math.pi*(self.__radius**2)\n",
    "    \n",
    "circle = Circle(10)\n",
    "print(\"원의 반지름 :\",circle.get_radius())           # 함수로 반지름 얻기\n",
    "print(\"원래 원의 넓이 :\",circle.get_area())\n",
    "circle.radius = 5                                   # 세터 함수 호출\n",
    "print(\"바뀐 원의 넓이 :\",circle.get_area())\n",
    "# circle.radius = -1                                  # 예외 발생"
   ]
  },
  {
   "cell_type": "markdown",
   "metadata": {},
   "source": [
    "### 3. 클래스 상속(기반 -> 부모, 생성 -> 자식) :\n",
    "부모클래스의 속성과 기능을 물려받아 새로운 클래스를 만드는 것. <br> <br>\n",
    "여러 클래스를 동시에 상속받아 생성하는 것을 다중 상속이라 함."
   ]
  },
  {
   "cell_type": "code",
   "execution_count": null,
   "metadata": {},
   "outputs": [],
   "source": [
    "class Parent:\n",
    "    def __init__(self):\n",
    "        self.value = \"test\"\n",
    "        print(\"Parent의 생성자 호출\")\n",
    "    def test(self):\n",
    "        print(\"Parent의 test 호출\")\n",
    "class Child(Parent):\n",
    "    def __init__(self):\n",
    "        Parent.__init__(self)   # 부모클래스의 생성자 사용 -> value 속성 사용, 이 코드가 없을 시 value 값 X\n",
    "        print(\"Child의 생성자 호출\")\n",
    "\n",
    "child = Child()\n",
    "child.test()\n",
    "print(child.value)"
   ]
  },
  {
   "cell_type": "code",
   "execution_count": null,
   "metadata": {},
   "outputs": [],
   "source": [
    "class CustomException(Exception):       # 기본 예외처리 클래스 상속\n",
    "    def __init__(self,message,value):\n",
    "        Exception.__init__(self)\n",
    "        self.message = message\n",
    "        self.value = value\n",
    "    def __str__(self):                  # 함수 오버라이딩\n",
    "        return self.message\n",
    "    def print(self):\n",
    "        print(\"메시지 :\",self.message)\n",
    "        print(\"값 : \",self.value)\n",
    "\n",
    "# raise CustomException   \n",
    "try:                                               # 시도하고 에러 발생시 except 실행\n",
    "    raise CustomException(\"딱히 이유 X\", 273)\n",
    "except CustomException as e:\n",
    "    e.print()"
   ]
  },
  {
   "cell_type": "markdown",
   "metadata": {},
   "source": [
    "# 추가 스터디 내용\n",
    "\n",
    "좋은 프로그래머가 되기 위해선 프로그래밍 언어 뿐만 아니라 컴퓨터에 대한 이해를 얻기 위해 많은 공부와 경험을 요구합니다.\n",
    "메모리(RAM)는 실행중인 프로그램(명령어)와 데이터를 저장하는데 사용됩니다. 파이썬의 메모리 구조에 대해 설명하는 다음 블로그 게시물을 순서대로 읽고 요약해옵시다. ([파이썬의 메모리 구조](https://hkim-data.tistory.com/180))\n",
    "\n",
    "\n",
    "아직 못 함 -> 내일 할 예정\n",
    "\n"
   ]
  },
  {
   "cell_type": "markdown",
   "metadata": {},
   "source": [
    "## 추가 스터디 내용\n",
    "\n",
    "프로그램의 데이터는 메모리에서 낮은 주소부터 코드영역, 데이터영역, 힙이 저장되고, 높은 주소부터 스택이어 저장된다. <br>\n",
    "파이썬에서는 python memory manager에 의해 메모리가 관리됨.\n",
    "\n",
    "* 코드 영역 : 실행할 프로그램의 코드 저장\n",
    "* 데이터 영역 : 전역변수, 정적변수 저장\n",
    "* 힙 영역 : 사용자의 동적 할당(런타임 타임에 크기 결정)\n",
    "* 스택 영역 : 지역 변수, 매개변수(컴파일 타임에 크기 결정) <br>\n",
    " 힙과 스택이 점점 커져 만나게 되면 오버플로우가 발생\n",
    "\n",
    "python에서 x = 10을 실행하면, 10이라는 정수 객체가 메모리에 생성되고 10의 객체가 변수 x에 의해 참조됨. <br>\n",
    "\n",
    "python은 동일한 값을 가진 객체가 이미 존재하는 경우 새로운 변수에 동일한 객체 참조를 할당해 메모리 사용을 최적화함."
   ]
  },
  {
   "cell_type": "code",
   "execution_count": null,
   "metadata": {},
   "outputs": [
    {
     "name": "stdout",
     "output_type": "stream",
     "text": [
      "8910088\n",
      "8910088\n",
      "8910088\n",
      "8910120 8910088\n"
     ]
    }
   ],
   "source": [
    "print(id(10))\n",
    "x=10\n",
    "y=x\n",
    "print(id(x))\n",
    "print(id(y))       # x,y 는 모두 객체 10을 참조한다.\n",
    "x=x+1\n",
    "print(id(x),id(y))  # x는 11, y는 10을 참조"
   ]
  },
  {
   "cell_type": "markdown",
   "metadata": {},
   "source": [
    "+ 객체는 보통 heap 메모리에 생성 (10,20...)\n",
    "+ 참조자는 stack 메모리에 생성 (x, 함수 ...)\n",
    "stack 은 LIFO(LAST IN FAST OUT)구조여서 맨 마지막에 들어간 것이 가장 먼저 나온다.\n",
    "``` python\n",
    "def f1(x):\n",
    "    x=x*2\n",
    "    return x\n",
    "# main\n",
    "y = 5\n",
    "z = f1(y)\n",
    "```\n",
    "1. 프로그램을 실행하면 맨 처음 main함수가 스택에서 실행되고 변수 y는 객체 5(힙 메모리에 생성)을 참조한다. \n",
    "2. f1 함수를 스택에서 main함수 위에 실행되고 x는 객체 5를 참조한다.\n",
    "3. x는 이후 10을 참조하고 반환값을 내보면서 main의 y는 10을 참조한다.\n",
    "4. 이후 f1 함수는 스택에서 삭제되고 main의 함수와 변수, 참조된 객체들만 남게 된다.\n",
    "(참조된 객체 중 더이상 참조되지 않는다면 힙 메모리에서 삭제됨)"
   ]
  },
  {
   "cell_type": "markdown",
   "metadata": {},
   "source": [
    "``` python\n",
    "class Car:\n",
    "    def __init__(self,w):\n",
    "        self.wheels = w\n",
    "    def getWheels(self):\n",
    "        return self.wheels\n",
    "# main\n",
    "c = Car(4)\n",
    "n = c.getWheels()\n",
    "print(n)\n",
    "```\n",
    "1. main의 지역변수 c가 스택에 저장 + 힙에 Car 객체 생성\n",
    "2. 생성자에 의해 w와 self 매개변수 스택에 저장 + 힙에 객체 4 저장 후, w는 객체 4를 참조하고 self는 Car 객체 참조\n",
    "3. w가 참조하는 객체 4를 self.wheels = w 코드에 의해 Car클래스의 wheels변수도 4 참조\n",
    "4. 생성자는 스택 메모리에서 삭제된다. \n",
    "5. n = c.getWheels()에 의해 스택에 getWheels함수가 저장된 후 self 변수는 Car객체 참조\n",
    "6. Car객체의 wheels 변수를 리턴하여 n은 객체 4를 참조하고  getWheels 함수는 삭제된다.\n",
    "7. print함수가 스택에 저장된 후 arg1 매개변수가 n이 참조하는 4를 참조하여 출력한 후 삭제된다."
   ]
  },
  {
   "cell_type": "markdown",
   "metadata": {},
   "source": [
    "python에서는 가비지 컬렉션이 레퍼런스 카운팅을 통해 참조하는 변수의 개수가 0이 되면 메모리 할당을 해제한다. <br>\n",
    "1. c1 = Car(4) -> Car 객체1 이 생성되고 참조자는 1개이다.\n",
    "2. c2 = c1     -> Car 객체1을 참조하는 참조자는 2개이다.\n",
    "3. c1 = None   -> 참조를 해제하여 Car 객체1의 참조자 개수는 1이다.\n",
    "4. c2 = Car(4) -> c2 는 Car 객체2를 참조하여 Car 객체1을 참조하는 참조자는 0이되어 삭제된다. (Car 객체1 != Car 객체2)\n",
    "\n",
    "\n",
    "+ 레퍼런스 카운팅 방식의 장점\n",
    "* reference count가 0이 될 때, GC(가비지 컬렉터)가 발생하기 때문에 Pause Time이 분산되어 실시간 작업에도 거의 영향을 주지않고 즉시 메모리에서 해제됨\n",
    "* 메모리 누수 방지 + 프로그램의 안정성 (또한 순환 참조도 방지해줌)\n",
    "+ 단점\n",
    "* 각 객체마다 레퍼런스 카운트를 변경해야 해서 관리 비용이 크다. \n",
    "* 참조를 많이하고 있는 객체의 래퍼런스 카운트가 0이 될 경우 연쇄적으로 GC가 발생할 수 있는 문제가 있다."
   ]
  },
  {
   "cell_type": "code",
   "execution_count": null,
   "metadata": {},
   "outputs": [
    {
     "name": "stdout",
     "output_type": "stream",
     "text": [
      "0x7f58b1773cd0\n",
      "<weakref at 0x7f58b1794950; dead>\n"
     ]
    }
   ],
   "source": [
    "import weakref\n",
    "class Car:\n",
    "    def __init__(self,w):\n",
    "        self.wheels = w\n",
    "    def getWheels(self):\n",
    "        return self.wheels\n",
    "# main\n",
    "c = Car(4)\n",
    "print(hex(id(c)))   # c의 주소\n",
    "r = weakref.ref(c)  # 약한참조는 참조 카운트를 증가시키지 않고 참조하는 객체 얻을 수 있음\n",
    "c = None            \n",
    "print(r)            # c는 Car 객체를 가르키다가 아무것도 참조하지 않기 때문에 r 은 죽은 참조가 됨\n"
   ]
  },
  {
   "cell_type": "markdown",
   "metadata": {},
   "source": [
    "### 파이썬과 C/java 의 차이점\n",
    "1. 선언\n",
    "* 파이썬은 따로 자료형을 선언하지 않음(dynamically typed)\n",
    "* java/C 는 자료형을 반드시 선언해야 됨.\n",
    "2. x=10 에서의 10은?\n",
    "* 파이썬은 힙 메모리에 생성\n",
    "* java/C 는 4 바이트 또는 2바이트 실제 데이터가 저장됨\n",
    "3. x에 들어있는 것\n",
    "* 파이썬은 객체 10을 참조\n",
    "* java/C 는 데이터 10이 들어가 있음\n",
    "4. x = x+1을 하면?\n",
    "* 파이썬은 객체 11을 새로 참조\n",
    "* java/C 는 동일한 메모리에서 데이터만 11로 변경\n",
    "5. x = 10, y = 10\n",
    "* 파이썬은 x와 y 둘 다 같은 객체 참조\n",
    "* java/C 는 x와 y 각각 다른 메모리에서 데이터 10 저장"
   ]
  }
 ],
 "metadata": {
  "kernelspec": {
   "display_name": "Python 3",
   "language": "python",
   "name": "python3"
  },
  "language_info": {
   "codemirror_mode": {
    "name": "ipython",
    "version": 3
   },
   "file_extension": ".py",
   "mimetype": "text/x-python",
   "name": "python",
   "nbconvert_exporter": "python",
   "pygments_lexer": "ipython3",
   "version": "3.11.9"
  }
 },
 "nbformat": 4,
 "nbformat_minor": 2
}
