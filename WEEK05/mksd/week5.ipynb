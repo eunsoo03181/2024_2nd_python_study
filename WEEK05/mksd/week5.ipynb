{
 "cells": [
  {
   "cell_type": "markdown",
   "metadata": {},
   "source": [
    "### 1. 객체 지향 프로그래밍 :\n",
    "클래스를 기반으로 객체를 만들고, 만들어진 객체를 우선으로 생각해서 프로그래밍하는 것.\n",
    "\n",
    "모든 데이터를 객체로 취급\n",
    "클래스를 통해 객체를 추상화하여 만듦 \n",
    "\n",
    "특징\n",
    "1. 추상화 : 필수적인 요소, 공통 부분으로만 객체를 구성. \n",
    "+ 객체의 복잡한 내부 구현을 감추고, 핵심적인 기능에 집중 가능.\n",
    "2. 캡슐화 : 서로 연관있는 속성과 기능들을 하나의 캡슐로 만들어 데이터를 외부로부터 보호. (private: 사용)\n",
    "+ 데이터 보호 : 외부로부터 클래스에 정의된 속성과 기능들 보호\n",
    "+ 데이터 은닉 : 내부의 동작을 감추고, 외부에는 필요한 부분만 노출\n",
    "3. 상속성 : 기존 클래스를 재활용하여 새로운 클래스 작성. 여러 개의 하위 클래스들이 상위 클래스의 속성과 기능들 사용 가능.\n",
    "+ 상속을 통해 코드 재사용이 쉽고, 기존 코드 확장, 수정이 용이\n",
    "4. 다형성 : 객체의 속성이나 기능이 상황에 따라 여러 형태를 가질 수 있음. (메서드 오버라이딩, 메서드 오버로딩) \n",
    "+ 상위 클래스의 참조변수로 하위 클래스의 객체 참조 가능. (이동수단(상위클래스 변수) -> 오토바이 or 기차 or 버스(하위 클래스들의 변수))\n"
   ]
  },
  {
   "cell_type": "markdown",
   "metadata": {},
   "source": [
    "### 1-1. 객체 : \n",
    "객체 지향 프로그래밍에선 모든 데이터를 객체로 취급. <br>\n",
    "여러가지 속성을 가질 수 있는 대상.\n",
    "\n",
    "클래스를 기반으로 추상적으로 객체를 표현\n",
    "(핵심적인 개념, 기능만 구성한 것)\n"
   ]
  },
  {
   "cell_type": "markdown",
   "metadata": {},
   "source": [
    "### 1-2. 클래스 : \n",
    "객체를 만들어 내기 위한 틀.\n",
    "추상적으로 선언\n",
    "붕어빵틀 -> 클래스, 붕어빵 -> 객체(인스턴스)\n",
    "\n",
    "클래스에 포함되는 변수 = 속성\n",
    "클래스에 포함되는 함수 = 메소드\n",
    "\n",
    "객체는 클래스의 생성자를 통해 생성되고 파괴자를 통해 삭제된다. (따로 선언하지 않으면 기본 설정이 적용된다.)"
   ]
  },
  {
   "cell_type": "markdown",
   "metadata": {},
   "source": [
    "### 1-3. 인스턴스 : \n",
    "클래스를 기반으로 만들어진 객체.\n",
    "클래스에서 여러 개의 인스턴스 생성 가능\n",
    "\n",
    "<인스턴스_이름> = <클래스_이름>() : 클래스 생성자를 통해 인스턴스 생성\n",
    "-> 인스턴스 X는 클래스 A의 인스턴스이다. + X는 객체이다."
   ]
  },
  {
   "cell_type": "code",
   "execution_count": 53,
   "metadata": {},
   "outputs": [
    {
     "name": "stdout",
     "output_type": "stream",
     "text": [
      "True\n",
      "True\n"
     ]
    }
   ],
   "source": [
    "# isinstance(A,B) : 객체 A가 클래스 B를 기반으로 만들었는지 확인\n",
    "class Student2:\n",
    "    def __init__(self):\n",
    "        pass\n",
    "student2 = Student2()\n",
    "print(isinstance(student2,Student2))        # 객체를 생성한 클래스 확인\n",
    "print(type(student2) == Student2)"
   ]
  },
  {
   "cell_type": "code",
   "execution_count": 54,
   "metadata": {},
   "outputs": [
    {
     "name": "stdout",
     "output_type": "stream",
     "text": [
      "생성자 호출 윤일성 생성 완료!\n",
      "생성자 호출 윤이성 생성 완료!\n",
      "생성자 호출 윤삼성 생성 완료!\n",
      "생성자 호출 윤사성 생성 완료!\n",
      "윤삼성 - 파괴자 호출 완료\n",
      "윤이성 - 파괴자 호출 완료\n",
      "윤일성 - 파괴자 호출 완료\n",
      "윤사성 - 파괴자 호출 완료\n",
      "윤일성의 국어점수는81이고 수학점수는91이다.\n",
      "윤이성의 국어점수는82이고 수학점수는92이다.\n",
      "윤삼성의 국어점수는83이고 수학점수는93이다.\n",
      "윤사성의 국어점수는84이고 수학점수는94이다.\n",
      "윤일성\t81\t91\n",
      "윤이성\t82\t92\n",
      "윤삼성\t83\t93\n",
      "윤사성\t84\t94\n"
     ]
    }
   ],
   "source": [
    "class Student:\n",
    "    def __init__(self, name, korean, math): # 생성자 (self = 객체 본인)\n",
    "        self.name = name\n",
    "        self.korean = korean\n",
    "        self.math = math\n",
    "        print(\"생성자 호출\",self.name,\"생성 완료!\")\n",
    "    def __del__(self):  # 파괴자\n",
    "        print(\"{} - 파괴자 호출 완료\".format(self.name))\n",
    "    def print(self):    # 클래스 메소드 정의\n",
    "        print(\"{}의 국어점수는{}이고 수학점수는{}이다.\".format(self.name,self.korean,self.math))\n",
    "    def __str__(self):  # str(객체)를 통해서 호출 가능\n",
    "        return \"{}\\t{}\\t{}\".format(self.name, self.korean, self.math)\n",
    "    \n",
    "students = [\n",
    "    Student(\"윤일성\",81,91),\n",
    "    Student(\"윤이성\",82,92),\n",
    "    Student(\"윤삼성\",83,93),\n",
    "    Student(\"윤사성\",84,94)\n",
    "]\n",
    "for student in students:\n",
    "    Student.print(student)  # 클래스의 함수\n",
    "for student in students:\n",
    "    print(str(student))    "
   ]
  },
  {
   "cell_type": "markdown",
   "metadata": {},
   "source": [
    "### 2-1. 파이썬 클래스의 특수 메소드 (C++의 연산자 오버라이딩과 같음)\n",
    "기본 연산자나 함수를 오버라이딩해 클래스의 자료형에서도 실행가능하게 만들어줌.<br>\n",
    "str : str() <br>\n",
    "eq : == <br>\n",
    "ne : != <br>\n",
    "gt : > <br>\n",
    "ge : >= <br>\n",
    "lt : < <br>\n",
    "le : <= <br>"
   ]
  },
  {
   "cell_type": "markdown",
   "metadata": {},
   "source": [
    "### 2-2. 클래스의 변수, 함수 호출\n",
    "<클래스_이름>.<변수>로 접근 가능 <br>\n",
    "<클래스_이름>.<함수>로 호출 가능"
   ]
  },
  {
   "cell_type": "markdown",
   "metadata": {},
   "source": [
    "### 2-3. 가비지 컬렉터\n",
    "프로그램에서 데이터를 생성해 메모리를 올리는데, 메모리 공간이 부족하면 하드디스크에 데이터를 올리기 시작함. <br>\n",
    "이를 스왑이라고 부르고, 처리속도가 매우 느림. <br>\n",
    "이같은 일을 방지하기 위해 파이썬에서는 '가비지 컬렉터'가 더 이상 사용하지 않는 데이터를 메모리에서 삭제한다."
   ]
  },
  {
   "cell_type": "code",
   "execution_count": 55,
   "metadata": {},
   "outputs": [
    {
     "name": "stdout",
     "output_type": "stream",
     "text": [
      "A 생성 완료\n",
      "A 파괴 완료\n",
      "B 생성 완료\n",
      "B 파괴 완료\n",
      "C 생성 완료\n",
      "C 파괴 완료\n",
      "1 생성 완료\n",
      "1 파괴 완료\n",
      "2 생성 완료\n",
      "2 파괴 완료\n",
      "3 생성 완료\n",
      "3 파괴 완료\n"
     ]
    }
   ],
   "source": [
    "class Test:\n",
    "    def __init__(self, name):\n",
    "        self.name = name\n",
    "        print(self.name,\"생성 완료\")\n",
    "    def __del__(self):\n",
    "        print(self.name, \"파괴 완료\")\n",
    "Test(\"A\")\n",
    "Test(\"B\")\n",
    "Test(\"C\")      \n",
    "\n",
    "a = Test(\"1\")\n",
    "b = Test(\"2\")\n",
    "c = Test(\"3\")  "
   ]
  },
  {
   "cell_type": "code",
   "execution_count": 56,
   "metadata": {},
   "outputs": [
    {
     "name": "stdout",
     "output_type": "stream",
     "text": [
      "원의 반지름 : 10\n",
      "원래 원의 넓이 : 314.1592653589793\n",
      "바뀐 원의 넓이 : 78.53981633974483\n"
     ]
    }
   ],
   "source": [
    "import math\n",
    "\n",
    "class Circle:\n",
    "    def __init__(self, radius):\n",
    "        self.__radius = radius      # __(변수) : 외부에서 접근 불가\n",
    "    @property                       # 데코레이터로 게터 선언     or 함수로 우회해야 됨\n",
    "    def radius(self):           \n",
    "        return self.__radius\n",
    "    @radius.setter                  # 세터 선언     or 함수로 우회해야 됨\n",
    "    def radius(self, value):\n",
    "        if(value <= 0):\n",
    "            raise TypeError(\"길이는 양수여야 함.\")  # 에러발생시키기\n",
    "        self.__radius = value\n",
    "    def get_radius(self):\n",
    "        return self.__radius\n",
    "    def get_area(self):\n",
    "        return math.pi*(self.__radius**2)\n",
    "    \n",
    "circle = Circle(10)\n",
    "print(\"원의 반지름 :\",circle.get_radius())           # 함수로 반지름 얻기\n",
    "print(\"원래 원의 넓이 :\",circle.get_area())\n",
    "circle.radius = 5                                   # 세터 함수 호출\n",
    "print(\"바뀐 원의 넓이 :\",circle.get_area())\n",
    "# circle.radius = -1                                  # 예외 발생"
   ]
  },
  {
   "cell_type": "markdown",
   "metadata": {},
   "source": [
    "### 클래스 상속(기반 -> 부모, 생성 -> 자식) :\n",
    "부모클래스의 속성과 기능을 물려받아 새로운 클래스를 만드는 것. <br> <br>\n",
    "여러 클래스를 동시에 상속받아 생성하는 것을 다중 상속이라 함."
   ]
  },
  {
   "cell_type": "code",
   "execution_count": 57,
   "metadata": {},
   "outputs": [
    {
     "name": "stdout",
     "output_type": "stream",
     "text": [
      "Parent의 생성자 호출\n",
      "Child의 생성자 호출\n",
      "Parent의 test 호출\n",
      "test\n"
     ]
    }
   ],
   "source": [
    "class Parent:\n",
    "    def __init__(self):\n",
    "        self.value = \"test\"\n",
    "        print(\"Parent의 생성자 호출\")\n",
    "    def test(self):\n",
    "        print(\"Parent의 test 호출\")\n",
    "class Child(Parent):\n",
    "    def __init__(self):\n",
    "        Parent.__init__(self)   # 부모클래스의 생성자 사용 -> value 속성 사용, 이 코드가 없을 시 value 값 X\n",
    "        print(\"Child의 생성자 호출\")\n",
    "\n",
    "child = Child()\n",
    "child.test()\n",
    "print(child.value)"
   ]
  },
  {
   "cell_type": "code",
   "execution_count": 58,
   "metadata": {},
   "outputs": [
    {
     "name": "stdout",
     "output_type": "stream",
     "text": [
      "메시지 : 딱히 이유 X\n",
      "값 :  273\n"
     ]
    }
   ],
   "source": [
    "class CustomException(Exception):       # 기본 예외처리 클래스 상속\n",
    "    def __init__(self,message,value):\n",
    "        Exception.__init__(self)\n",
    "        self.message = message\n",
    "        self.value = value\n",
    "    def __str__(self):                  # 함수 오버라이딩\n",
    "        return self.message\n",
    "    def print(self):\n",
    "        print(\"메시지 :\",self.message)\n",
    "        print(\"값 : \",self.value)\n",
    "\n",
    "# raise CustomException   \n",
    "try:                                               # 시도하고 에러 발생시 except 실행\n",
    "    raise CustomException(\"딱히 이유 X\", 273)\n",
    "except CustomException as e:\n",
    "    e.print()"
   ]
  },
  {
   "cell_type": "markdown",
   "metadata": {},
   "source": [
    "# 추가 스터디 내용\n",
    "\n",
    "좋은 프로그래머가 되기 위해선 프로그래밍 언어 뿐만 아니라 컴퓨터에 대한 이해를 얻기 위해 많은 공부와 경험을 요구합니다.\n",
    "메모리(RAM)는 실행중인 프로그램(명령어)와 데이터를 저장하는데 사용됩니다. 파이썬의 메모리 구조에 대해 설명하는 다음 블로그 게시물을 순서대로 읽고 요약해옵시다. ([파이썬의 메모리 구조](https://hkim-data.tistory.com/180))\n",
    "\n",
    "\n",
    "아직 못 함 -> 내일 할 예정\n",
    "\n"
   ]
  }
 ],
 "metadata": {
  "kernelspec": {
   "display_name": "Python 3",
   "language": "python",
   "name": "python3"
  },
  "language_info": {
   "codemirror_mode": {
    "name": "ipython",
    "version": 3
   },
   "file_extension": ".py",
   "mimetype": "text/x-python",
   "name": "python",
   "nbconvert_exporter": "python",
   "pygments_lexer": "ipython3",
   "version": "3.9.13"
  }
 },
 "nbformat": 4,
 "nbformat_minor": 2
}
