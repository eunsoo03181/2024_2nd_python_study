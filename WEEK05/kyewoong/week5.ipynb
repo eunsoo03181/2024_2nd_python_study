{
 "cells": [
  {
   "cell_type": "markdown",
   "metadata": {},
   "source": [
    "● 클래스"
   ]
  },
  {
   "cell_type": "markdown",
   "metadata": {},
   "source": [
    "클래스를 기반으로 객체 생성"
   ]
  },
  {
   "cell_type": "markdown",
   "metadata": {},
   "source": [
    "객체란? 여러가지 속성을 가질 수 있는 대상"
   ]
  },
  {
   "cell_type": "markdown",
   "metadata": {},
   "source": [
    "-> 객체와 관련된 기능을 별도의 모듈로 뺴서 관리가 가능"
   ]
  },
  {
   "cell_type": "markdown",
   "metadata": {},
   "source": [
    "-> 하지만 너무 자주 사용되어서 '클래스'를 만듦"
   ]
  },
  {
   "cell_type": "markdown",
   "metadata": {},
   "source": [
    "- 클래스 선언법"
   ]
  },
  {
   "cell_type": "markdown",
   "metadata": {},
   "source": [
    "class 클래스 이름:\n",
    "    \n",
    "    클래스 내용"
   ]
  },
  {
   "cell_type": "markdown",
   "metadata": {},
   "source": [
    "이렇게 만든 클래스는 클래스 이름과 같은 함수(생성자)를 사용하여 객체를 형성"
   ]
  },
  {
   "cell_type": "markdown",
   "metadata": {},
   "source": [
    "-> 이를 '인스턴스' 라고 부른다"
   ]
  },
  {
   "cell_type": "markdown",
   "metadata": {},
   "source": [
    "인스턴스 이름(변수 이름) = 클래스 이름()"
   ]
  },
  {
   "cell_type": "markdown",
   "metadata": {},
   "source": [
    "class 클래스 이름:\n",
    "     \n",
    "      def __init__(self, 추가 매개변수)\n",
    "\n",
    "       pass"
   ]
  },
  {
   "cell_type": "markdown",
   "metadata": {},
   "source": [
    "※Self를 반드시 입력해야함"
   ]
  },
  {
   "cell_type": "markdown",
   "metadata": {},
   "source": [
    "-> 접근 시 self.<식별자> 의 형태로 접근"
   ]
  },
  {
   "cell_type": "code",
   "execution_count": null,
   "metadata": {},
   "outputs": [],
   "source": [
    "class Student:  #클래스 선언\n",
    "    def __init__(self, name, Korean, math, english, science):\n",
    "        self.name = name\n",
    "        self.Korean = Korean\n",
    "        self.math = math\n",
    "        self.english = english\n",
    "        self.science = science\n",
    "        \n",
    "students = [   #학생 리스트 선언\n",
    "    Student(\"전계웅\",80, 80, 80, 90)\n",
    "]\n",
    "\n",
    "students[0].name   # Student 인스턴스의 속성에 접근"
   ]
  },
  {
   "cell_type": "markdown",
   "metadata": {},
   "source": [
    "※객체 지향 언어 : 객체를 기반으로 프로그램을 만드는 언어"
   ]
  },
  {
   "cell_type": "markdown",
   "metadata": {},
   "source": [
    "-> 객체란 속성을 가지는 모든 것"
   ]
  },
  {
   "cell_type": "markdown",
   "metadata": {},
   "source": [
    "-> 클래스란 객체를 편하게 생성하기 위해 만들어짐"
   ]
  },
  {
   "cell_type": "markdown",
   "metadata": {},
   "source": [
    "-> 인스턴스란 클래스를 기반으로 생성한 객체이다"
   ]
  },
  {
   "cell_type": "markdown",
   "metadata": {},
   "source": [
    "-> 클래스 상속이란 어떤 클래스를 기반으로 물려받아 새로운 클래스를 만드는 것이다"
   ]
  },
  {
   "cell_type": "markdown",
   "metadata": {},
   "source": [
    "※ 추가 내용"
   ]
  },
  {
   "cell_type": "markdown",
   "metadata": {},
   "source": [
    "파이썬의 메모리 구조"
   ]
  },
  {
   "cell_type": "markdown",
   "metadata": {},
   "source": [
    "-코드 영역, 데이터 영역, 힙 영역, 스택 영역으로 구성"
   ]
  },
  {
   "cell_type": "markdown",
   "metadata": {},
   "source": [
    "(위에서 부터 낮은 주소가 할당)"
   ]
  },
  {
   "cell_type": "markdown",
   "metadata": {},
   "source": [
    "1. 코드영역 : 실행할 프로그램의 코드가 저장"
   ]
  },
  {
   "cell_type": "markdown",
   "metadata": {},
   "source": [
    "2. 데이터 영역 : 전역 변수와 정적 변수가 저장"
   ]
  },
  {
   "cell_type": "markdown",
   "metadata": {},
   "source": [
    "3. 힙 영역 : 사용자의 동적 할당에 의한 변수나 메소드가 저장 (런 타임에 의해 크기가 결정된다)"
   ]
  },
  {
   "cell_type": "markdown",
   "metadata": {},
   "source": [
    "4. 스택 영역 : 지역 변수와 매개 변수가 저장 (컴파일 타임에 크기가 결정)"
   ]
  },
  {
   "cell_type": "markdown",
   "metadata": {},
   "source": [
    "-> python memory manager가 메모리 구조를 관리"
   ]
  }
 ],
 "metadata": {
  "kernelspec": {
   "display_name": "Python 3",
   "language": "python",
   "name": "python3"
  },
  "language_info": {
   "codemirror_mode": {
    "name": "ipython",
    "version": 3
   },
   "file_extension": ".py",
   "mimetype": "text/x-python",
   "name": "python",
   "nbconvert_exporter": "python",
   "pygments_lexer": "ipython3",
   "version": "3.12.7"
  }
 },
 "nbformat": 4,
 "nbformat_minor": 2
}
