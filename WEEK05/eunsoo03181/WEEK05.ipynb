{
 "cells": [
  {
   "cell_type": "markdown",
   "metadata": {},
   "source": [
    "# Python 5주차\n",
    "Python은 C++, Java와 같은 객체 지향 프로그래밍 언어입니다.<br>\n",
    "객체 지향 프로그래밍 언어에는 클래스, 객체, 인스턴스, 생성자, 메소드와 같은 개념이 자주 언급됩니다.<br>\n",
    "\n",
    "우선, '객체'란, 속성과 동작으로 구성되어 있는 것을 의미하며, 속성은 필드를 의미하고 동작은 메소드를 의미합니다.<br>\n",
    "'클래스'란, 객체 생성을 위한 필드와 메소드의 정의를 포함합니다.<br>\n",
    "클래스로부터 만들어진 객체는 해당 클래스의 '인스턴스'라고 부르고 이는 '객체'와 혼용되어 사용되지만 의미 차이가 크지는 않습니다. <br>\n",
    "<br>\n",
    "'메소드'는 객체의 동작을 구성하는 것으로 함수와 기능이 유사합니다. <br>\n",
    "'필드'는 객체의 속성을 구성하는 것으로 변수와 기능이 유사합니다. <br>\n",
    "<br>\n",
    "객체를 하나씩 조립하여 완성된 프로그래밍을 만드는 기법을 '객체 지향 프로그래밍'이라고 부릅니다."
   ]
  },
  {
   "cell_type": "markdown",
   "metadata": {},
   "source": [
    "## 1. 클래스와 객체\n",
    "파이썬의 모든 변수는 객체로 저장됩니다. 객체는 여러 가지 속성을 가질 수 있는 모든 것을 의미하며 클래스에 의해 생성됩니다.<br>\n",
    "클래스는 객체를 만드는 틀로 비유할 수 있으며, 다음과 같이 선언할 수 있습니다."
   ]
  },
  {
   "cell_type": "code",
   "execution_count": null,
   "metadata": {},
   "outputs": [],
   "source": [
    "class MyClass:\n",
    "    pass"
   ]
  },
  {
   "cell_type": "markdown",
   "metadata": {},
   "source": [
    "객체를 만들기 위해서는 생성자를 사용합니다.<br>\n",
    "생성자는 메소드의 일부로, 클래스 자기 자신의 이름을 사용합니다."
   ]
  },
  {
   "cell_type": "code",
   "execution_count": null,
   "metadata": {},
   "outputs": [],
   "source": [
    "mc = MyClass()"
   ]
  },
  {
   "cell_type": "markdown",
   "metadata": {},
   "source": [
    "## 2. 생성자\n",
    "클래스 이름과 같은 메소드를 생성자라고 부릅니다. 클래스 내부에 __init__이라는 메소로를 지정할 경우 이는 생성자가 됩니다.<br>\n",
    "init은 initalize의 줄임말입니다."
   ]
  },
  {
   "cell_type": "code",
   "execution_count": null,
   "metadata": {},
   "outputs": [],
   "source": [
    "class MyClass:\n",
    "    def __init__(self, name, age):\n",
    "        self.name = name\n",
    "        self.age = age"
   ]
  },
  {
   "cell_type": "markdown",
   "metadata": {},
   "source": [
    "클래스 내부의 메소드에는 첫 번째 매개변수로 반드시 self를 입력해야 합니다. <br>\n",
    "self는 객체가 자기 자신을 참조할 수 있도록 하는 기능을 가짐짐 동시에 <br>\n",
    "객체 자신의 값과 외부 변수를 구별하는 역할을 합니다.<br>\n",
    "<br>\n",
    "self는 식별자이므로 self로 하지 않고, this와 같은 표현을 사용해도 되지만 통상적으로 self를 이용합니다.<br>\n",
    "<br>\n",
    "Java의 this와 비슷한 기능을 하지만, Python은 self를 명시해야하고, Java는 this를 암시적으로 사용하는 특징을 가지므로로<br>\n",
    "전자는 필수적으로 사용, 후자는 선택적으로 사용합니다.<br>\n",
    "\n",
    "### self\n",
    "이전에 mc = MyClass()를 하면, MyClass 인스턴스가 생성된다고 하였습니다.<br>\n",
    "mc는 객체 그 자체가 아니라, MyClass 인스턴스의 주소를 가지고 있는 래퍼런스 변수입니다.<br>\n",
    "이미, mc는 해당 객체에 대한 주솟값을 참조하는데, 객체에서 한 번 더 self로 자기 자신을 참조하는 것은 의문을 품을 수 있습니다. <br>\n",
    "<br>\n",
    "결론부터 말하면, **객체는 자기 자신이 직접 필드와 메소드를 가지고 있지 않기 때문입니다.**<br>\n",
    "우리가 보기에는 객체는 하나의 묶음으로 보이지만 실제로 객체는 자신의 필드와 메소드를 다른 메모리에 저장하고 있습니다.<br>\n",
    "여기서 self는 자신의 필드와 메소드의 주솟값을 참조할 수 있도록 합니다. <br>\n",
    "그런 이유로 인해 객체는 자신이 가진 모든 필드와 메소드에 self를 명시해야 하는 것입니다.\n",
    "<br>\n",
    "<br>\n",
    "요약하자면, mc는 MyClass의 인스턴스 주솟값을 참조하고, 인스턴스는 self를 통해 자신의 필드와 메소드를 참조합니다.\n",
    "\n"
   ]
  },
  {
   "cell_type": "code",
   "execution_count": 4,
   "metadata": {},
   "outputs": [
    {
     "name": "stdout",
     "output_type": "stream",
     "text": [
      "10 + 20 = 30\n",
      "10 - 20 = -10\n",
      "\n",
      "20 + 30 = 50\n",
      "20 - 30 = -10\n",
      "\n",
      "30 + 40 = 70\n",
      "30 - 40 = -10\n",
      "\n"
     ]
    }
   ],
   "source": [
    "class Calculate:\n",
    "    def __init__(self, x, y):\n",
    "        self.x = x\n",
    "        self.y = y\n",
    "\n",
    "    def add(self):\n",
    "        return self.x + self.y\n",
    "    \n",
    "    def sub(self):\n",
    "        return self.x - self.y\n",
    "    \n",
    "\n",
    "c = [Calculate(10, 20), Calculate(20, 30), Calculate(30, 40)]\n",
    "\n",
    "for i in c:\n",
    "    print(f\"{i.x} + {i.y} = {i.add()}\")\n",
    "    print(f\"{i.x} - {i.y} = {i.sub()}\")\n",
    "    print()"
   ]
  },
  {
   "cell_type": "markdown",
   "metadata": {},
   "source": [
    "생성자는 객체를 초기화할 때 사용하는 메소드입니다.<br>\n",
    "위의 코드에서는 객체를 생성하고, 생성자를 통해 사용자가 지정한 값으로 필드 값을 정의합니다."
   ]
  },
  {
   "cell_type": "markdown",
   "metadata": {},
   "source": [
    "### 소멸자\n",
    "생성자가 객체를 초기화한다면, 소멸자는 인스턴스가 소멸될 때 호출되는 메소드입니다.<br>"
   ]
  },
  {
   "cell_type": "code",
   "execution_count": 4,
   "metadata": {},
   "outputs": [
    {
     "name": "stdout",
     "output_type": "stream",
     "text": [
      "Instance is created\n",
      "Instance is deleted\n"
     ]
    }
   ],
   "source": [
    "class MyClass:\n",
    "    def __init__(self):\n",
    "        print(\"Instance is created\")\n",
    "\n",
    "    def __del__(self):\n",
    "        print(\"Instance is deleted\")\n",
    "\n",
    "\n",
    "if __name__ == \"__main__\":\n",
    "    mc = MyClass()"
   ]
  },
  {
   "cell_type": "markdown",
   "metadata": {},
   "source": [
    "메모리에 저장된 정보를 삭제하는 것을 해제라고 합니다.<br>\n",
    "생성자는 객체를 초기화한다면, 소멸자는 객체가 더 이상 사용되지 못하게 메모리를 해제하는 역할을 합니다.<br>\n",
    "<br>\n",
    "C++에서는 기본적으로 객체가 스코프를 벗어난다면 메모리를 해제하지만, 기본적으로 메모리를 해제하지 않습니다.<br>\n",
    "메모리를 해제하지 않는다면 더 이상 사용하지 않는 메모리가 지속적으로 차지된 상태로 남아있는 문제가 발생합니다.<br>\n",
    "이를 '메모리 누수'라고 합니다.<br>\n",
    "따라서, C++에서는 소멸자를 통해 더 이상 사용하지 않는 객체를 해제합니다.<br>\n",
    "<br>\n",
    "그러나 Python은 자동으로 메모리를 정리해주는 가비지 컬렉터가 존재하여, 이가 자동으로 자원 관리를 해줍니다. <br>\n",
    "그러기 때문에 Python에서는 소멸자를 명시적으로 사용할 필요가 많지 않습니다."
   ]
  },
  {
   "cell_type": "markdown",
   "metadata": {},
   "source": [
    "## 3. 메소드\n",
    "메소드는 객체의 동작을 의미하며, 클래스의 함수로 볼 수 있습니다.<br>\n",
    "메소드는 self를 첫 번째 매개변수로 둔 이후 매개변수를 사용합니다.<br>"
   ]
  },
  {
   "cell_type": "code",
   "execution_count": 8,
   "metadata": {},
   "outputs": [
    {
     "name": "stdout",
     "output_type": "stream",
     "text": [
      "Hello World\n",
      "Hello World\n",
      "Hello World\n",
      "\n"
     ]
    }
   ],
   "source": [
    "class MyClass:\n",
    "    # 생성자를 명시하지 않으면 기본 생성자가 호출됩니다.\n",
    "\n",
    "    def print_helloworld(self, n):\n",
    "        print(\"Hello World\\n\" * n)\n",
    "\n",
    "mc = MyClass()\n",
    "mc.print_helloworld(3)"
   ]
  },
  {
   "cell_type": "markdown",
   "metadata": {},
   "source": [
    "Python은 다른 객체 지향 프로그래밍 언어와 달리 '오버로딩'을 지원하지 않습니다.<br>\n",
    "오버로딩을 구현하기 위해서는 가변매개변수를 통해 간접적으로 구현할 수는 있습니다."
   ]
  },
  {
   "cell_type": "markdown",
   "metadata": {},
   "source": [
    "## 4. 상속\n",
    "상속(Inheritance)은 클래스의 멤버를 다른 클래스에 물려주는 것을 의미합니다.<br>\n",
    "상속을 통해 클래스를 재사용하여 새로운 클래스를 만드는 것으로 중복되는 코드를 줄일 수 있습니다.<br>\n",
    "두 클래스가 상속 관계일 때, 상속을 하는 곳을 ‘상위 클래스(부모 클래스)’ 주는 곳을 ‘하위 클래스(자식 클래스, 파생 클래스)’라고 부릅니다.<br>"
   ]
  },
  {
   "cell_type": "code",
   "execution_count": 19,
   "metadata": {},
   "outputs": [
    {
     "name": "stdout",
     "output_type": "stream",
     "text": [
      "Child Constructor\n",
      "Child Method1\n",
      "Parent Method1\n",
      "Parent Method2\n"
     ]
    }
   ],
   "source": [
    "class Parent:\n",
    "    def __init__(self):\n",
    "        print(\"Parent Constructor\")\n",
    "\n",
    "    def test1(self):\n",
    "        print(\"Parent Method1\")\n",
    "\n",
    "    def test2(self):\n",
    "        print(\"Parent Method2\")\n",
    "\n",
    "class Child(Parent):\n",
    "    def __init__(self):\n",
    "        print(\"Child Constructor\")\n",
    "\n",
    "    def test1(self):\n",
    "        print(\"Child Method1\")\n",
    "    \n",
    "\n",
    "c = Child()\n",
    "c.test1()\n",
    "super(Child, c).test1()\n",
    "c.test2()"
   ]
  },
  {
   "cell_type": "markdown",
   "metadata": {},
   "source": [
    "자식 클래스는 부모의 모든 필드와 메소드를 사용할 수 있습니다.<br>\n",
    "상속 받은 메소드는 자식 클래스에서 메소드를 재정의할 수 있습니다. 이를 '오버라이딩'이라고 합니다.<br>\n",
    "<br>\n",
    "자식 클래스는 부모 클래스를 참조하며, 이때 사용하는 키워드는 super()입니다.<br>\n",
    "\n",
    "### 다중 상속\n",
    "Python은 두 개 이상의 부모 클래스로부터 상속을 받는 '다중 상속'을 지원합니다.<br>\n",
    "그러나, 부모 클래스로부터 같은 이름의 메소드를 가지고 있다면, 예상치 못한 일이 발생할 수 있고(죽음의 다이아몬드) 코드가 지나치게 난잡해져 유지 보수성이 떨어집니다.<br>\n",
    "즉 다중 상속을 이용할 때는 신중한 사용이 요구됩니다."
   ]
  },
  {
   "cell_type": "code",
   "execution_count": null,
   "metadata": {},
   "outputs": [
    {
     "name": "stdout",
     "output_type": "stream",
     "text": [
      "A\n"
     ]
    }
   ],
   "source": [
    "# Diamond of Death\n",
    "class A:\n",
    "    def test(self):\n",
    "        print(\"A\")\n",
    "\n",
    "class B:\n",
    "    def test(self):\n",
    "        print(\"B\")\n",
    "\n",
    "class D(A, B):\n",
    "    pass\n",
    "\n",
    "d = D()\n",
    "d.test()"
   ]
  },
  {
   "cell_type": "markdown",
   "metadata": {},
   "source": [
    "### 접근 제어자\n",
    "객체 지향 프로그래밍의 주요 특징인 '정보 은닉'에 큰 기여를 하는 것은 접근 제어자입니다. <br>\n",
    "Python은 Public, Protected, Private 제어자를 제공하고 있습니다. <br>\n",
    "<br>\n",
    "Public - 모든 클래스 및 함수 등에 접근할 수 있음 <br>\n",
    "Protected - 상속받는 클래스만 접근할 수 있음 <br>\n",
    "Private - 본인 클래스만 접근할 수 있음 <br>\n",
    "<br>\n",
    "필드 앞에 __를 붙인 경우 Private, _를 붙인 경우 Protected가 됩니다. 전자의 경우는 Python이 Private임을 보장해주지만,<br>\n",
    "후자의 경우는 암묵적인 약속입니다.\n",
    "\n",
    "다른 곳에서 Private에 접근하기 위해서는 getter, setter 메소드를 사용합니다. 전자는 값을 받을 수 있는 메소드, 후자는 값을 수정할 수 있는 메소드입니다."
   ]
  },
  {
   "cell_type": "code",
   "execution_count": null,
   "metadata": {},
   "outputs": [],
   "source": [
    "class MyClass:\n",
    "    def __init__(self):\n",
    "        self.pub = \"public\"\n",
    "        self._pro = \"protected\"\n",
    "        self.__pri = \"private\"\n",
    "\n",
    "    def __private_method(self):\n",
    "        return\n",
    "\n",
    "    def get_pri(self):\n",
    "        return self.pri\n",
    "    \n",
    "    def set_pri(self, pri):\n",
    "        self.pri = pri"
   ]
  },
  {
   "cell_type": "markdown",
   "metadata": {},
   "source": [
    "## 5. isinstance()\n",
    "isinstance() 함수는 해당 인스턴스가 해당 클래스의 인스턴스인지를 boolean형으로 반환합니다.<br>\n",
    "자식 객체도 부모 클래스로부터 상속을 받으므로, 위 함수에 대하여 true를 반환하게 됩니다."
   ]
  },
  {
   "cell_type": "code",
   "execution_count": 21,
   "metadata": {},
   "outputs": [
    {
     "name": "stdout",
     "output_type": "stream",
     "text": [
      "True\n",
      "False\n"
     ]
    }
   ],
   "source": [
    "class Parent:\n",
    "    pass\n",
    "\n",
    "class Child(Parent):\n",
    "    pass\n",
    "\n",
    "print(isinstance(Child(), Parent))\n",
    "print(isinstance(Parent(), Child))"
   ]
  },
  {
   "cell_type": "markdown",
   "metadata": {},
   "source": [
    "## 6. 클래스 변수와 메소드 그리고 정적 메소드\n",
    "클래스는 그 자체로 변수와 메소드를 가질 수 있습니다."
   ]
  },
  {
   "cell_type": "code",
   "execution_count": 31,
   "metadata": {},
   "outputs": [
    {
     "name": "stdout",
     "output_type": "stream",
     "text": [
      "3.14\n",
      "78.5\n",
      "78.5\n",
      "78.5\n",
      "78.5\n",
      "78.5\n"
     ]
    }
   ],
   "source": [
    "class MyClass:\n",
    "    PI = 3.14\n",
    "\n",
    "    def __init__(self, radius):\n",
    "        self.radius = radius\n",
    "\n",
    "    def get_area(self):\n",
    "        return MyClass.PI * self.radius * self.radius\n",
    "\n",
    "    @classmethod\n",
    "    def get_area1(cls, radius):\n",
    "        return cls.PI * radius * radius\n",
    "    \n",
    "    @staticmethod\n",
    "    def get_area2(radius):\n",
    "        return 3.14 * radius * radius\n",
    "    \n",
    "\n",
    "mc = MyClass(5)\n",
    "\n",
    "print(MyClass.PI)\n",
    "print(mc.get_area())\n",
    "print(MyClass.get_area1(5))\n",
    "print(MyClass.get_area2(5)) \n",
    "print(mc.get_area1(5))\n",
    "print(mc.get_area2(5)) "
   ]
  },
  {
   "cell_type": "markdown",
   "metadata": {},
   "source": [
    "클래스 변수와 메소드는 클래스 자체에 속한 것이기 때문에 객체를 선언하지 않고도 접근할 수 있습니다.<br>\n",
    "또한, 객체도 클래스 변수에 접근할 수 있습니다.<br>\n",
    "그러나 정적 메소드는 클래스와 독립적인 메소드처럼 동작하며, self 또는 cls를 받지 않습니다.<br>\n",
    "클래스와 독립적이기 때문에, 클래스 변수를 메소드 내에서 사용할 수 없습니다.<br> \n",
    "Java와 달리 Python에서는 객체가 메소드를 직접 호출할 수 있습니다."
   ]
  },
  {
   "cell_type": "markdown",
   "metadata": {},
   "source": [
    "## 7. Python의 메모리 구조\n",
    "Python의 메모리 구조는 Java와 유사하면서도 다른 특징을 가지고 있습니다. <br>\n",
    "자체적으로 값을 저장하고 있는 Primitive Type 변수를 가지고 있는 Java와 달리,<br>\n",
    "Python은 모든 것을 객체로 저장하고 값을 Reference한다는 점에서 차이를 보입니다.<br>\n",
    "Python은 모두 Stack Area와 Heap Area를 가지고 있는데, Stack Area는 실행 진입점에 존재하는 모든 것을 저장하고<br>\n",
    "Heap Area는 실제 값을 저장합니다.<br>\n",
    "<br>\n",
    "\n",
    "### Stack Area\n",
    "Stack는 선입후출을 원칙으로 하는 자료구조로, 가장 먼저 들어간 입력은 가장 나중에 출력됩니다.<br>\n",
    "Python에서 Stack Area는 Main 함수를 의미하고, 다음과 같이 작동합니다."
   ]
  },
  {
   "cell_type": "code",
   "execution_count": null,
   "metadata": {},
   "outputs": [],
   "source": [
    "def hello():\n",
    "    print(\"Hello\")\n",
    "\n",
    "\n",
    "print(\"Start\") # Stack Area: print() 함수가 stack에 쌓인 후 제거\n",
    "a=5 # Stack Area: 5를 가리키는 변수 a가 stack에 쌓임\n",
    "hello() # Stack Area: hello() 함수가 stack에 쌓인 후 제거\n",
    "print(\"Stop\") # Stack Area: print() 함수가 stack에 쌓인 후 제거\n",
    "# 코드가 종료된 이후 a가 stack에서 제거"
   ]
  },
  {
   "cell_type": "markdown",
   "metadata": {},
   "source": [
    "### Heap Area와 Garbage Collector\n",
    "Heap Area에는 Python의 객체 실제값이 저장됩니다.<br>\n",
    "객체가 내부에 필드 또는 메소드를 가지고 있는 경우 Heap Area에서 한 번 더 Heap Area를 참조하는 방식입니다.<br>\n",
    "<br>\n",
    "Garbage Collector은 Heap Area에서 더 이상 참조되지 않는 메모리를 해제하는 역할을 하며, Number Of Reference가 0이 된 메모리를 삭제합니다."
   ]
  },
  {
   "cell_type": "code",
   "execution_count": null,
   "metadata": {},
   "outputs": [],
   "source": [
    "class MyClass:\n",
    "    def __init__(self):\n",
    "        self.a = 0\n",
    "\n",
    "    def get_a(self):\n",
    "        print(a)\n",
    "\n",
    "\n",
    "mc = MyClass() # MyClass의 인스턴스는 Heap Area에 저장되며, 인스턴스 내의 a와 get_a는 모두 Heap Area에 저장\n",
    "\n",
    "# MyClass 인스턴스는 self를 통해 Heap Area에 저장된 자신의 필드와 메소드를 참조\n",
    "\n",
    "b = 10 # b는 Stack Area에 쌓이고, 10은 Heap Area에 저장. b는 10을 참조. / 10의 NumberOfReference 1 증가(1)\n",
    "c = 10 # c는 Stack Area에 쌓이고, c는 기존 10이 저장된 곳을 동일하게 참조. / 10의 NumberOfReference 1 증가(1+1)\n",
    "\n",
    "b = 11 # Stack Area의 b는 유지되고, 11은 Heap Area에 저장. b는 11을 참조 / 11의 NumberOfReference 1 증가, 10의 NumberOfReference 1 감소(1)\n",
    "c = b # Stack Area의 c는 유지되고, c는 b의 주솟값을 참조. 즉 11을 참조 / 11의 NumberOfReference 1 증가(1+1), 10의 NumberOfReference 1 감소(0)\n",
    "\n",
    "# 10을 참조하는 것이 없으므로(NumberOfReference가 0이므로) Garbage Collector가 10의 메모리를 해제\n",
    "\n",
    "# Stack Area의 c 제거 / 11의 NumberOfReference 1 감소(1)\n",
    "# Stack Area의 b 제거 / 11의 NumberOfReference 1 감소(0)\n",
    "# 11을 참조하는 것이 없으므로(NumberOfReference가 0이므로) Garbage Collector가 11의 메모리를 해제\n",
    "# Stack Area의 mc 제거 / 필드와 메소드 NumberOfFeference 변화 생략\n",
    "# Heap Area의 a와 get_a를 참조하는 것이 없으므로 Garbage Collector가 두 메모리를 해제\n",
    "# 0을 참조하는 것이 없으므로(NumberOfReference가 0이므로) Garbage Collector가 0의 메모리를 해제"
   ]
  },
  {
   "cell_type": "markdown",
   "metadata": {},
   "source": [
    "일부 변수는 직접 자신이 값을 가지고 있어, 그 값이 Stack Area에 저장되는 Java와 달리 Python은 모든 것이 참조 변수(객체)이므로, <br>\n",
    "Java와는 위와 같은 차이를 보이게 됩니다."
   ]
  }
 ],
 "metadata": {
  "kernelspec": {
   "display_name": "base",
   "language": "python",
   "name": "python3"
  },
  "language_info": {
   "codemirror_mode": {
    "name": "ipython",
    "version": 3
   },
   "file_extension": ".py",
   "mimetype": "text/x-python",
   "name": "python",
   "nbconvert_exporter": "python",
   "pygments_lexer": "ipython3",
   "version": "3.12.4"
  }
 },
 "nbformat": 4,
 "nbformat_minor": 2
}
