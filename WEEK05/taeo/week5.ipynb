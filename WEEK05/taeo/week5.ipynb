{
 "cells": [
  {
   "cell_type": "markdown",
   "metadata": {},
   "source": [
    "- 클래스와 객체는 객체지향 프로그래밍에서 나오는 용어이다. 클래스 (Class)는 프로그램을 이용해서 객체를 만들어주는 역할을 하고, 객체 (Object)는 클래스에 의해서 만들어지는 결과물(instance)을 말 한다. \n",
    "- 클래스를 흔히 설계도라고 비유한다. \n",
    "- 일반적으로 하나의 설계도를 가지고 수많은 건물을 건축할 수도 있고, 자동차를 생산해 낼 수도 있기 때문이다. \n",
    "- 클래스와 객체의 관계를 설계도와 건물로 비유한 예이다.\n",
    "-클래스로 만든 객체의 특징\n",
    " :객체는 클래스로 만들어진 모든 것을 의미하기 때문에\n",
    "속성(변수)과 행위(함수)모두 객체입니다.\n",
    " :객체마다 고유한 성질을 가지며,동일한 클래스로\n",
    "만든 객체들은 서로 전혀 영향을 주지 않습니다\n",
    "  \n"
   ]
  },
  {
   "cell_type": "code",
   "execution_count": null,
   "metadata": {},
   "outputs": [],
   "source": [
    "class Student:\n",
    "      pass\n",
    "student=Student()\n",
    "students=[\n",
    "    Student()\n",
    "]"
   ]
  },
  {
   "cell_type": "markdown",
   "metadata": {},
   "source": [
    "-클래스 기반으로 만들어진 객체를 인스턴스라고 부릅니다.\n",
    "-인스턴스는 특정 객체가 어떤 클래스의 객체인지를 관계위주로 설명할때 사용합니다.\n",
    "\n"
   ]
  },
  {
   "cell_type": "markdown",
   "metadata": {},
   "source": [
    "메소드\n",
    "클래스가 가지고 있는 함수를 의미\n",
    "-클래스 내부의 함수의 첫 번째 매개변수는 반드시 self입력\n",
    "-객체를 호출할 때 호출한 객체 자신이 전달되기 때문에 self사용\n"
   ]
  },
  {
   "cell_type": "markdown",
   "metadata": {},
   "source": [
    "생성자\n",
    "-클래스로부터 인스턴스가 생성될 때 자동으로 실행되는 함수\n",
    "-클래스를 실행하면 가장 먼저 생성자인 ‘__init__’함수가 호출\n",
    "-‘__init__’함수는 인스턴스의 생성과 동시에 필요한 정보를 입력 받도록 구현하는 역할\n",
    "-클래스 내부의 함수의 첫 번째 매개변수는 self입력\n",
    "-self는 키워드가 아니라 식별자이므로,다른 변수이름을 써도 되기는 합니다.\n"
   ]
  },
  {
   "cell_type": "markdown",
   "metadata": {},
   "source": [
    "isinstance()함수\n",
    "-isinstance(인스턴스,클래스) 로 사용함\n",
    " 인스턴스가 해당 클래스를  기반으로 만들어졌다면 True, 전혀 상관이 없는 인스턴스와 클래스라면 False를 리턴한다.\n"
   ]
  },
  {
   "cell_type": "code",
   "execution_count": null,
   "metadata": {},
   "outputs": [],
   "source": [
    "class Student:\n",
    "    def study(self):\n",
    "        print(\"공부를 합니다.\")\n",
    "class Teacher:\n",
    "    def teach(self):\n",
    "        print(\"학생을 가르칩니다.\")\n",
    "classroom=[Student(),Student(),Teacher()]\n",
    "for person in classroom:\n",
    "    if isinstance(person, Student):\n",
    "        person.study()\n",
    "    elif isinstance(person,Teacher):\n",
    "        person.teach()"
   ]
  },
  {
   "cell_type": "markdown",
   "metadata": {},
   "source": [
    "클래스 변수 생성\n",
    " class 클래스이름:\n",
    "        클래스 변수=값\n",
    "\n",
    "클래스 변수 호출\n",
    "  클래스 이름.변수 이름"
   ]
  },
  {
   "cell_type": "markdown",
   "metadata": {},
   "source": [
    "클래스 함수\n",
    "-클래스 함수는 @classmethod 데코레이터를 사용하여 정의된다.\n",
    "-첫 번째 매개변수로 cls를 받는다.\n",
    "-Cls를 통해 클래스 속성에 접근할 수 있다.\n",
    "-앞에서와 다르게 인스턴스가 아닌 클래스 자체를 통해 호출된다.\n"
   ]
  },
  {
   "cell_type": "markdown",
   "metadata": {},
   "source": [
    "객체 지향 프로그래밍\n"
   ]
  },
  {
   "cell_type": "code",
   "execution_count": null,
   "metadata": {},
   "outputs": [],
   "source": [
    "-프로그램을 여러 개의 독립적인 단위인＇객체＇라는 기본 단위로 나누고\n",
    "-‘객체＇들의 상호작용을 통해 프로그램을 설계하고 개발하는 방식\n",
    "-장점: 코드 재사용이 쉬우며,유지보수 용이하고 대형 프로젝트에 적합함.\n",
    "-단점: 실행 속도가 상대적으로 느림,객체가 많으면 프로그램 용량 커짐,설계시 많은 시간 소요\n"
   ]
  },
  {
   "cell_type": "markdown",
   "metadata": {},
   "source": [
    "추가 스터디 내용,\n",
    "코드영역에 실행할 프로그램의 코드가 저장됨,데이터 영역에 전역변수,정적변수가 저장됨,힙 영역에 사용자가 동적으로 할당하는 변수나 메소드가 저장됨,스택 영역에 지역변수나 매개변수가 저장됨. x=10을 실행하면 10이라는 객체가 메모리에 생성되고,변수 x에 의해 참조됨(x가 10이라는 객체의 주소를 참조함).\n",
    "y=x을 실행하면 y는 x가 참조하고 있는 객체를 동일하게 참조함(y와 x의 id값은 동일).\n",
    "sys.getrefcount()는 호출 시 해당 객체를 임시로 참조하여, 객체의 참조 횟수를 증가시킨 상태에서 값을 반환합니다. 그래서 getrefcount()로 확인한 참조 횟수는 실제 참조 횟수보다 1만큼 더 큽니다.\n",
    "스택 메모리로부터 메서드가 실행,참조자는 stack메모리에 생성됨,객체는 보통heap메모리에 생성됨,가비지 컬렉터는 더 사용할 가능성이 없는 데이터를 메모리에서 제거하는 역할을 합니다(참조자 수가 0이 되는 즉시 메모리에서 해제시킨다)\n",
    "\n"
   ]
  }
 ],
 "metadata": {
  "kernelspec": {
   "display_name": "my_env",
   "language": "python",
   "name": "python3"
  },
  "language_info": {
   "codemirror_mode": {
    "name": "ipython",
    "version": 3
   },
   "file_extension": ".py",
   "mimetype": "text/x-python",
   "name": "python",
   "nbconvert_exporter": "python",
   "pygments_lexer": "ipython3",
   "version": "3.11.9"
  }
 },
 "nbformat": 4,
 "nbformat_minor": 2
}
